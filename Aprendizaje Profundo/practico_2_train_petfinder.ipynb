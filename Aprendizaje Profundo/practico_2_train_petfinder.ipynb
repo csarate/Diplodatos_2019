{
 "cells": [
  {
   "cell_type": "markdown",
   "metadata": {
    "Collapsed": "false",
    "colab_type": "text",
    "id": "utczXWEwQSjI"
   },
   "source": [
    "# Práctico 2 - Redes en escalera avanzadas"
   ]
  },
  {
   "cell_type": "markdown",
   "metadata": {
    "Collapsed": "false"
   },
   "source": [
    "#### Práctico 2 Aprendizaje Profundo de: Claudio Sarate - Martin Hunziker "
   ]
  },
  {
   "cell_type": "code",
   "execution_count": 1,
   "metadata": {
    "Collapsed": "false",
    "colab": {
     "base_uri": "https://localhost:8080/",
     "height": 84
    },
    "colab_type": "code",
    "executionInfo": {
     "elapsed": 2347,
     "status": "ok",
     "timestamp": 1574907191523,
     "user": {
      "displayName": "Claudio Sárate",
      "photoUrl": "https://lh3.googleusercontent.com/a-/AAuE7mAyvJcBOeDmirReKch-IfaEhczbBFhZkXiSlm968g=s64",
      "userId": "01992612555747043556"
     },
     "user_tz": 180
    },
    "id": "qdki57WyQSjO",
    "outputId": "69f0e678-657c-46af-c233-14e84b9a04dc",
    "scrolled": true
   },
   "outputs": [
    {
     "name": "stderr",
     "output_type": "stream",
     "text": [
      "/home/claudio/anaconda3/envs/MachineLearning/lib/python3.7/site-packages/scipy/sparse/sparsetools.py:21: DeprecationWarning: `scipy.sparse.sparsetools` is deprecated!\n",
      "scipy.sparse.sparsetools is a private module for scipy.sparse, and should not be used.\n",
      "  _deprecated()\n",
      "[nltk_data] Downloading package punkt to /home/claudio/nltk_data...\n",
      "[nltk_data]   Package punkt is already up-to-date!\n",
      "[nltk_data] Downloading package stopwords to\n",
      "[nltk_data]     /home/claudio/nltk_data...\n",
      "[nltk_data]   Package stopwords is already up-to-date!\n"
     ]
    }
   ],
   "source": [
    "import sys\n",
    "import io\n",
    "import nltk\n",
    "import numpy as np\n",
    "import os\n",
    "import pandas as pd\n",
    "import sklearn\n",
    "import numpy as np\n",
    "import tensorflow as tf\n",
    "import mlflow\n",
    "\n",
    "from tensorflow.keras import regularizers\n",
    "from IPython.display import SVG\n",
    "from gensim import corpora\n",
    "from nltk import word_tokenize\n",
    "from nltk.corpus import stopwords\n",
    "from pprint import pprint\n",
    "from sklearn.preprocessing import MinMaxScaler\n",
    "\n",
    "nltk.download([\"punkt\", \"stopwords\"]);"
   ]
  },
  {
   "cell_type": "code",
   "execution_count": 2,
   "metadata": {
    "Collapsed": "false",
    "colab": {
     "base_uri": "https://localhost:8080/",
     "height": 1000
    },
    "colab_type": "code",
    "executionInfo": {
     "elapsed": 18926,
     "status": "ok",
     "timestamp": 1574907208150,
     "user": {
      "displayName": "Claudio Sárate",
      "photoUrl": "https://lh3.googleusercontent.com/a-/AAuE7mAyvJcBOeDmirReKch-IfaEhczbBFhZkXiSlm968g=s64",
      "userId": "01992612555747043556"
     },
     "user_tz": 180
    },
    "id": "nriY43u0QSjT",
    "outputId": "12cfbdfe-77fa-4dba-b2f3-544c6ee67528"
   },
   "outputs": [],
   "source": [
    "in_colab = 'google.colab' in sys.modules\n",
    "if in_colab:\n",
    "    !pip install --upgrade pip\n",
    "    !pip install --upgrade tensorflow-gpu==2.0.0\n",
    "    !pip install --upgrade mlflow graphviz pydot\n",
    "\n",
    "    print(tf.__version__)\n",
    "    from google.colab import drive\n",
    "    drive.mount('/content/drive')\n",
    "    BASE_DIR = \"/content/drive/My Drive/Colab Notebooks/Machine Learning/Aprendizaje Profundo/Data/\"\n",
    "else:\n",
    "    BASE_DIR = \"./Data/\""
   ]
  },
  {
   "cell_type": "code",
   "execution_count": 3,
   "metadata": {
    "Collapsed": "false",
    "colab": {
     "base_uri": "https://localhost:8080/",
     "height": 34
    },
    "colab_type": "code",
    "executionInfo": {
     "elapsed": 18913,
     "status": "ok",
     "timestamp": 1574907208151,
     "user": {
      "displayName": "Claudio Sárate",
      "photoUrl": "https://lh3.googleusercontent.com/a-/AAuE7mAyvJcBOeDmirReKch-IfaEhczbBFhZkXiSlm968g=s64",
      "userId": "01992612555747043556"
     },
     "user_tz": 180
    },
    "id": "17niph0yQSjW",
    "outputId": "79b09d76-aaea-479d-c160-f8678eb7ad7b"
   },
   "outputs": [],
   "source": [
    "try:\n",
    "    # %tensorflow_version only exists in Colab.\n",
    "    %tensorflow_version 2.x\n",
    "except Exception:\n",
    "    pass\n",
    "import tensorflow as tf\n",
    "\n",
    "from tensorflow.keras import layers, models"
   ]
  },
  {
   "cell_type": "markdown",
   "metadata": {
    "Collapsed": "false",
    "colab_type": "text",
    "id": "eBgk14sSQSja"
   },
   "source": [
    "## Carga de los datos"
   ]
  },
  {
   "cell_type": "code",
   "execution_count": 4,
   "metadata": {
    "Collapsed": "false",
    "colab": {
     "base_uri": "https://localhost:8080/",
     "height": 467
    },
    "colab_type": "code",
    "executionInfo": {
     "elapsed": 18906,
     "status": "ok",
     "timestamp": 1574907208153,
     "user": {
      "displayName": "Claudio Sárate",
      "photoUrl": "https://lh3.googleusercontent.com/a-/AAuE7mAyvJcBOeDmirReKch-IfaEhczbBFhZkXiSlm968g=s64",
      "userId": "01992612555747043556"
     },
     "user_tz": 180
    },
    "id": "iIyuzqVtQSjb",
    "outputId": "321ea71f-9eaf-4df6-b4b8-9a995806cdf5"
   },
   "outputs": [
    {
     "data": {
      "text/html": [
       "<div>\n",
       "<style scoped>\n",
       "    .dataframe tbody tr th:only-of-type {\n",
       "        vertical-align: middle;\n",
       "    }\n",
       "\n",
       "    .dataframe tbody tr th {\n",
       "        vertical-align: top;\n",
       "    }\n",
       "\n",
       "    .dataframe thead th {\n",
       "        text-align: right;\n",
       "    }\n",
       "</style>\n",
       "<table border=\"1\" class=\"dataframe\">\n",
       "  <thead>\n",
       "    <tr style=\"text-align: right;\">\n",
       "      <th></th>\n",
       "      <th>Type</th>\n",
       "      <th>Age</th>\n",
       "      <th>Breed1</th>\n",
       "      <th>Breed2</th>\n",
       "      <th>Gender</th>\n",
       "      <th>Color1</th>\n",
       "      <th>Color2</th>\n",
       "      <th>Color3</th>\n",
       "      <th>MaturitySize</th>\n",
       "      <th>FurLength</th>\n",
       "      <th>Vaccinated</th>\n",
       "      <th>Dewormed</th>\n",
       "      <th>Sterilized</th>\n",
       "      <th>Health</th>\n",
       "      <th>Quantity</th>\n",
       "      <th>Fee</th>\n",
       "      <th>State</th>\n",
       "      <th>Description</th>\n",
       "      <th>AdoptionSpeed</th>\n",
       "      <th>PID</th>\n",
       "    </tr>\n",
       "  </thead>\n",
       "  <tbody>\n",
       "    <tr>\n",
       "      <th>0</th>\n",
       "      <td>2</td>\n",
       "      <td>3</td>\n",
       "      <td>299</td>\n",
       "      <td>0</td>\n",
       "      <td>1</td>\n",
       "      <td>1</td>\n",
       "      <td>7</td>\n",
       "      <td>0</td>\n",
       "      <td>1</td>\n",
       "      <td>1</td>\n",
       "      <td>2</td>\n",
       "      <td>2</td>\n",
       "      <td>2</td>\n",
       "      <td>1</td>\n",
       "      <td>1</td>\n",
       "      <td>100</td>\n",
       "      <td>41326</td>\n",
       "      <td>Nibble is a 3+ month old ball of cuteness. He ...</td>\n",
       "      <td>2</td>\n",
       "      <td>0</td>\n",
       "    </tr>\n",
       "    <tr>\n",
       "      <th>1</th>\n",
       "      <td>1</td>\n",
       "      <td>4</td>\n",
       "      <td>307</td>\n",
       "      <td>0</td>\n",
       "      <td>2</td>\n",
       "      <td>1</td>\n",
       "      <td>2</td>\n",
       "      <td>0</td>\n",
       "      <td>2</td>\n",
       "      <td>1</td>\n",
       "      <td>1</td>\n",
       "      <td>1</td>\n",
       "      <td>2</td>\n",
       "      <td>1</td>\n",
       "      <td>1</td>\n",
       "      <td>150</td>\n",
       "      <td>41401</td>\n",
       "      <td>Good guard dog, very alert, active, obedience ...</td>\n",
       "      <td>2</td>\n",
       "      <td>3</td>\n",
       "    </tr>\n",
       "    <tr>\n",
       "      <th>2</th>\n",
       "      <td>1</td>\n",
       "      <td>1</td>\n",
       "      <td>307</td>\n",
       "      <td>0</td>\n",
       "      <td>1</td>\n",
       "      <td>1</td>\n",
       "      <td>0</td>\n",
       "      <td>0</td>\n",
       "      <td>2</td>\n",
       "      <td>1</td>\n",
       "      <td>2</td>\n",
       "      <td>2</td>\n",
       "      <td>2</td>\n",
       "      <td>1</td>\n",
       "      <td>1</td>\n",
       "      <td>0</td>\n",
       "      <td>41326</td>\n",
       "      <td>This handsome yet cute boy is up for adoption....</td>\n",
       "      <td>2</td>\n",
       "      <td>4</td>\n",
       "    </tr>\n",
       "    <tr>\n",
       "      <th>3</th>\n",
       "      <td>2</td>\n",
       "      <td>3</td>\n",
       "      <td>266</td>\n",
       "      <td>0</td>\n",
       "      <td>2</td>\n",
       "      <td>5</td>\n",
       "      <td>6</td>\n",
       "      <td>0</td>\n",
       "      <td>2</td>\n",
       "      <td>1</td>\n",
       "      <td>2</td>\n",
       "      <td>2</td>\n",
       "      <td>2</td>\n",
       "      <td>1</td>\n",
       "      <td>1</td>\n",
       "      <td>0</td>\n",
       "      <td>41326</td>\n",
       "      <td>This is a stray kitten that came to my house. ...</td>\n",
       "      <td>2</td>\n",
       "      <td>5</td>\n",
       "    </tr>\n",
       "    <tr>\n",
       "      <th>4</th>\n",
       "      <td>2</td>\n",
       "      <td>12</td>\n",
       "      <td>264</td>\n",
       "      <td>264</td>\n",
       "      <td>1</td>\n",
       "      <td>1</td>\n",
       "      <td>0</td>\n",
       "      <td>0</td>\n",
       "      <td>2</td>\n",
       "      <td>3</td>\n",
       "      <td>2</td>\n",
       "      <td>2</td>\n",
       "      <td>3</td>\n",
       "      <td>1</td>\n",
       "      <td>1</td>\n",
       "      <td>300</td>\n",
       "      <td>41326</td>\n",
       "      <td>anyone within the area of ipoh or taiping who ...</td>\n",
       "      <td>1</td>\n",
       "      <td>6</td>\n",
       "    </tr>\n",
       "  </tbody>\n",
       "</table>\n",
       "</div>"
      ],
      "text/plain": [
       "   Type  Age  Breed1  Breed2  Gender  Color1  Color2  Color3  MaturitySize  \\\n",
       "0     2    3     299       0       1       1       7       0             1   \n",
       "1     1    4     307       0       2       1       2       0             2   \n",
       "2     1    1     307       0       1       1       0       0             2   \n",
       "3     2    3     266       0       2       5       6       0             2   \n",
       "4     2   12     264     264       1       1       0       0             2   \n",
       "\n",
       "   FurLength  Vaccinated  Dewormed  Sterilized  Health  Quantity  Fee  State  \\\n",
       "0          1           2         2           2       1         1  100  41326   \n",
       "1          1           1         1           2       1         1  150  41401   \n",
       "2          1           2         2           2       1         1    0  41326   \n",
       "3          1           2         2           2       1         1    0  41326   \n",
       "4          3           2         2           3       1         1  300  41326   \n",
       "\n",
       "                                         Description  AdoptionSpeed  PID  \n",
       "0  Nibble is a 3+ month old ball of cuteness. He ...              2    0  \n",
       "1  Good guard dog, very alert, active, obedience ...              2    3  \n",
       "2  This handsome yet cute boy is up for adoption....              2    4  \n",
       "3  This is a stray kitten that came to my house. ...              2    5  \n",
       "4  anyone within the area of ipoh or taiping who ...              1    6  "
      ]
     },
     "execution_count": 4,
     "metadata": {},
     "output_type": "execute_result"
    }
   ],
   "source": [
    "dataset = pd.read_csv(os.path.join(BASE_DIR, \"train.csv\"))\n",
    "\n",
    "target_col = \"AdoptionSpeed\"\n",
    "nlabels = dataset[target_col].unique().shape[0]\n",
    "\n",
    "dataset.head(5)"
   ]
  },
  {
   "cell_type": "markdown",
   "metadata": {
    "Collapsed": "false",
    "colab_type": "text",
    "id": "tkHy79ZBQSjf"
   },
   "source": [
    "## Preproceso del texto para agregarlo como feature (manejo de secuencias)\n",
    "\n",
    "A diferencia del práctico anterior, en este caso es necesario utilizar el texto como feature extra. Pueden luego agregarlo a una red recurrente o convolucional y concatenar su salida a los atributos \"escalares\" (como \"raza\" o \"género\").\n",
    "\n",
    "A continuación les mostraremos los pasos a seguir para ello. La descripción detallada de para que sirve cada paso se encuentra disponible en el [notebook 3](./3_cnns.ipynb).\n",
    "\n",
    "### Tokenización"
   ]
  },
  {
   "cell_type": "code",
   "execution_count": 5,
   "metadata": {
    "Collapsed": "false",
    "colab": {},
    "colab_type": "code",
    "id": "6om_cnbsQSjg"
   },
   "outputs": [],
   "source": [
    "SW = set(stopwords.words(\"english\"))\n",
    "\n",
    "\n",
    "def tokenize_description(description):\n",
    "    return [\n",
    "        w.lower()\n",
    "        for w in word_tokenize(description, language=\"english\")\n",
    "        if w.lower() not in SW\n",
    "    ]\n",
    "\n",
    "\n",
    "# Fill the null values with the empty string to avoid errors with NLTK tokenization\n",
    "dataset[\"TokenizedDescription\"] = (\n",
    "    dataset[\"Description\"].fillna(value=\"\").apply(tokenize_description)\n",
    ")"
   ]
  },
  {
   "cell_type": "markdown",
   "metadata": {
    "Collapsed": "false",
    "colab_type": "text",
    "id": "DQq29S6IQSjj"
   },
   "source": [
    "#### Tamaño de las descripciones\n",
    "\n",
    "Un punto importante a tener en cuenta es que las descripciones tienen tamaño variable, y esto no es compatible con los algoritmos de aprendizaje automático. Por lo que hay que llevar las secuencias a un tamaño uniforme.\n",
    "\n",
    "Para definir dicho tamaño uniforme, es útil mirar qué tamaños mínimos, máximos y medios manejan las descripciones y a partir de esto establecer el tamaño máximo de la secuencia."
   ]
  },
  {
   "cell_type": "code",
   "execution_count": 6,
   "metadata": {
    "Collapsed": "false",
    "colab": {
     "base_uri": "https://localhost:8080/",
     "height": 168
    },
    "colab_type": "code",
    "executionInfo": {
     "elapsed": 26420,
     "status": "ok",
     "timestamp": 1574907215686,
     "user": {
      "displayName": "Claudio Sárate",
      "photoUrl": "https://lh3.googleusercontent.com/a-/AAuE7mAyvJcBOeDmirReKch-IfaEhczbBFhZkXiSlm968g=s64",
      "userId": "01992612555747043556"
     },
     "user_tz": 180
    },
    "id": "rZCyYTMHQSjk",
    "outputId": "9eec3ebb-e205-4290-ffe1-e1ec2ba3f7d0"
   },
   "outputs": [
    {
     "name": "stdout",
     "output_type": "stream",
     "text": [
      "count    10582.000000\n",
      "mean        44.419486\n",
      "std         48.465910\n",
      "min          0.000000\n",
      "25%         16.000000\n",
      "50%         31.000000\n",
      "75%         55.000000\n",
      "max        803.000000\n",
      "Name: TokenizedDescription, dtype: float64\n"
     ]
    }
   ],
   "source": [
    "pprint(dataset[\"TokenizedDescription\"].apply(len).describe())"
   ]
  },
  {
   "cell_type": "markdown",
   "metadata": {
    "Collapsed": "false",
    "colab_type": "text",
    "id": "B6oXoz5HQSjn"
   },
   "source": [
    "Vemos que más del 75% de las secuencias tienen 55 palabras o menos. Esto es un buen punto de partida, así que podemos establecer el tamaño máximo de las secuencia en 55 palabras."
   ]
  },
  {
   "cell_type": "code",
   "execution_count": 7,
   "metadata": {
    "Collapsed": "false",
    "colab": {},
    "colab_type": "code",
    "id": "PLamyB6RQSjo"
   },
   "outputs": [],
   "source": [
    "MAX_SEQUENCE_LEN = 55"
   ]
  },
  {
   "cell_type": "markdown",
   "metadata": {
    "Collapsed": "false",
    "colab_type": "text",
    "id": "caZkXZLLQSjr"
   },
   "source": [
    "## Vocabulario"
   ]
  },
  {
   "cell_type": "code",
   "execution_count": 8,
   "metadata": {
    "Collapsed": "false",
    "colab": {},
    "colab_type": "code",
    "id": "1M-rRF6YQSjs"
   },
   "outputs": [],
   "source": [
    "vocabulary = corpora.Dictionary(dataset[\"TokenizedDescription\"])\n",
    "vocabulary.filter_extremes(no_below=1, no_above=1.0, keep_n=10000)"
   ]
  },
  {
   "cell_type": "markdown",
   "metadata": {
    "Collapsed": "false",
    "colab_type": "text",
    "id": "c1hM-FpZQSjv"
   },
   "source": [
    "## Word Embeddings (GloVe)"
   ]
  },
  {
   "cell_type": "code",
   "execution_count": 9,
   "metadata": {
    "Collapsed": "false",
    "colab": {
     "base_uri": "https://localhost:8080/",
     "height": 34
    },
    "colab_type": "code",
    "executionInfo": {
     "elapsed": 30764,
     "status": "ok",
     "timestamp": 1574907220050,
     "user": {
      "displayName": "Claudio Sárate",
      "photoUrl": "https://lh3.googleusercontent.com/a-/AAuE7mAyvJcBOeDmirReKch-IfaEhczbBFhZkXiSlm968g=s64",
      "userId": "01992612555747043556"
     },
     "user_tz": 180
    },
    "id": "JWcnBXamQSjw",
    "outputId": "0b5e2f92-8b84-403b-81a3-4af9e4a2ee98"
   },
   "outputs": [
    {
     "name": "stdout",
     "output_type": "stream",
     "text": [
      "Found 7897 word vectors.\n"
     ]
    }
   ],
   "source": [
    "embeddings_index = {}\n",
    "\n",
    "with open(BASE_DIR + \"glove.6B.100d.txt\", \"r\") as fh:\n",
    "    for line in fh:\n",
    "        values = line.split()\n",
    "        word = values[0]\n",
    "        if (\n",
    "            word in vocabulary.token2id\n",
    "        ):  # Only use the embeddings of words in our vocabulary\n",
    "            coefs = np.asarray(values[1:], dtype=\"float32\")\n",
    "            embeddings_index[word] = coefs\n",
    "\n",
    "print(\"Found {} word vectors.\".format(len(embeddings_index)))"
   ]
  },
  {
   "cell_type": "markdown",
   "metadata": {
    "Collapsed": "false",
    "colab_type": "text",
    "id": "8KHwSBYoQSj0"
   },
   "source": [
    "## Creación de los datasets\n",
    "\n",
    "Similar al práctico anterior, tendremos datos que serán \"one-hot-encoded\", otros serán \"embeddings\" y otros serán numéricos.\n",
    "\n",
    "El caso particular del texto es que será tratado como una secuencia de embeddings, y dichos embeddings no serán entrenados en conjunto con la red, sino que serán tomados de un modelo \"pre-entrenado\". En este caso utilizamos GloVe, pero podríamos haber utilizado otro modelo (e.g. FastText)."
   ]
  },
  {
   "cell_type": "code",
   "execution_count": 10,
   "metadata": {
    "Collapsed": "false",
    "colab": {},
    "colab_type": "code",
    "id": "u4ra_8PNQSj1"
   },
   "outputs": [],
   "source": [
    "# It's important to always use the same one-hot length\n",
    "one_hot_columns = {\n",
    "    one_hot_col: dataset[one_hot_col].max()\n",
    "    for one_hot_col in [\n",
    "        \"Type\",\n",
    "        \"Gender\",\n",
    "        \"MaturitySize\",\n",
    "        \"FurLength\",\n",
    "        \"Vaccinated\",\n",
    "        \"Dewormed\",\n",
    "        \"Sterilized\",\n",
    "        \"Health\",\n",
    "    ]\n",
    "}\n",
    "embedded_columns = {\n",
    "    embedded_col: dataset[embedded_col].max() + 1\n",
    "    for embedded_col in [\"Breed1\", \"Breed2\", \"Color1\", \"Color2\", \"Color3\"]\n",
    "}\n",
    "numeric_columns = [\"Age\", \"Fee\"]"
   ]
  },
  {
   "cell_type": "markdown",
   "metadata": {
    "Collapsed": "false",
    "colab_type": "text",
    "id": "y5_mAUnfQSj4"
   },
   "source": [
    "## Generador del conjunto de datos\n",
    "\n",
    "Dada la naturaleza de los datos de texto, y que estos representan una secuencia de datos (que se da luego a una red recurrente o convolucional), en este caso no crearemos los datasets de antemano, sino que los generaremos a medida que el algoritmo de entrenamiento los pida. \n",
    "\n",
    "En particular, es porque las secuencias de texto pueden no tener el mismo tamaño (las oraciones tienen diferente cantidad de palabras), pero para que los modelos de redes las acepten, necesitamos rellenarlas (*padding*) de manera que todas tengan el mismo tamaño.\n",
    "\n",
    "En este paso también vamos a truncar aquellas secuencias de descripciones con más de `MAX_SEQUENCE_LEN` palabras, de manera que al hacer uso de `padded_batch` no lance un error al encontrarse con secuencias de tamaño mayor."
   ]
  },
  {
   "cell_type": "code",
   "execution_count": 11,
   "metadata": {
    "Collapsed": "false",
    "colab": {},
    "colab_type": "code",
    "id": "cuGkAwN0QSj4"
   },
   "outputs": [],
   "source": [
    "# Normalizamos las vareiables numéricas\n",
    "dataset[numeric_columns] = sklearn.preprocessing.minmax_scale(\n",
    "    dataset[numeric_columns], feature_range=(0, 1), axis=0\n",
    ")"
   ]
  },
  {
   "cell_type": "code",
   "execution_count": 12,
   "metadata": {
    "Collapsed": "false",
    "colab": {},
    "colab_type": "code",
    "id": "W3SG4KoRQSj8"
   },
   "outputs": [],
   "source": [
    "def dataset_generator(ds, test_data=False):\n",
    "    for _, row in ds.iterrows():\n",
    "        instance = {}\n",
    "\n",
    "        direct_features = []\n",
    "        # One hot encoded features\n",
    "        instance[\"direct_features\"] = np.hstack(\n",
    "            [\n",
    "                tf.keras.utils.to_categorical(row[one_hot_col] - 1, max_value)\n",
    "                for one_hot_col, max_value in one_hot_columns.items()\n",
    "            ]\n",
    "        )\n",
    "\n",
    "        # Numeric features (should be normalized beforehand)\n",
    "        for n_col in numeric_columns:\n",
    "            instance[n_col] = [row[n_col]]\n",
    "\n",
    "        #   for n_col in numeric_columns:\n",
    "        #       instance[n_col] = tf.keras.utils.normalize(ds[n_col].values.reshape(-1,1))\n",
    "        #   for n_col in numeric_columns:\n",
    "        #       instance[n_col] = np.hstack(tf.keras.utils.normalize(df[n_col].values))\n",
    "\n",
    "        # Embedded features\n",
    "        for embedded_col in embedded_columns:\n",
    "            instance[embedded_col] = [row[embedded_col]]\n",
    "\n",
    "        # Document to indices for text data, truncated at MAX_SEQUENCE_LEN words\n",
    "        instance[\"description\"] = vocabulary.doc2idx(\n",
    "            row[\"TokenizedDescription\"], unknown_word_index=len(vocabulary)\n",
    "        )[:MAX_SEQUENCE_LEN]\n",
    "\n",
    "        # One hot encoded target for categorical crossentropy\n",
    "        if not test_data:\n",
    "            target = tf.keras.utils.to_categorical(row[target_col], nlabels)\n",
    "            yield instance, target\n",
    "        else:\n",
    "            yield instance"
   ]
  },
  {
   "cell_type": "code",
   "execution_count": 13,
   "metadata": {
    "Collapsed": "false",
    "colab": {
     "base_uri": "https://localhost:8080/",
     "height": 538
    },
    "colab_type": "code",
    "executionInfo": {
     "elapsed": 30598,
     "status": "ok",
     "timestamp": 1574907220054,
     "user": {
      "displayName": "Claudio Sárate",
      "photoUrl": "https://lh3.googleusercontent.com/a-/AAuE7mAyvJcBOeDmirReKch-IfaEhczbBFhZkXiSlm968g=s64",
      "userId": "01992612555747043556"
     },
     "user_tz": 180
    },
    "id": "Rur1XmxzQSj-",
    "outputId": "7506c3e4-860c-4531-ca56-20f996dc4eb0"
   },
   "outputs": [
    {
     "name": "stdout",
     "output_type": "stream",
     "text": [
      "{'Age': <tf.Tensor: id=49, shape=(1,), dtype=float32, numpy=array([0.01176471], dtype=float32)>,\n",
      " 'Breed1': <tf.Tensor: id=50, shape=(1,), dtype=int32, numpy=array([299], dtype=int32)>,\n",
      " 'Breed2': <tf.Tensor: id=51, shape=(1,), dtype=int32, numpy=array([0], dtype=int32)>,\n",
      " 'Color1': <tf.Tensor: id=52, shape=(1,), dtype=int32, numpy=array([1], dtype=int32)>,\n",
      " 'Color2': <tf.Tensor: id=53, shape=(1,), dtype=int32, numpy=array([7], dtype=int32)>,\n",
      " 'Color3': <tf.Tensor: id=54, shape=(1,), dtype=int32, numpy=array([0], dtype=int32)>,\n",
      " 'Fee': <tf.Tensor: id=55, shape=(1,), dtype=float32, numpy=array([0.03333334], dtype=float32)>,\n",
      " 'description': <tf.Tensor: id=56, shape=(42,), dtype=int32, numpy=\n",
      "array([23,  2, 20, 24,  4, 10,  1, 11, 26,  1, 27,  9,  6, 21,  3,  8, 15,\n",
      "       22, 33,  7, 13, 30,  1, 29, 18, 17,  1, 12, 31, 14,  5,  6, 16,  1,\n",
      "       19, 28, 25, 32, 23,  0,  5,  1], dtype=int32)>,\n",
      " 'direct_features': <tf.Tensor: id=57, shape=(24,), dtype=float32, numpy=\n",
      "array([0., 1., 1., 0., 0., 1., 0., 0., 0., 1., 0., 0., 0., 1., 0., 0., 1.,\n",
      "       0., 0., 1., 0., 1., 0., 0.], dtype=float32)>}\n",
      "<tf.Tensor: id=58, shape=(5,), dtype=int32, numpy=array([0, 0, 1, 0, 0], dtype=int32)>\n",
      "\n",
      "{'Age': <tf.Tensor: id=59, shape=(1,), dtype=float32, numpy=array([0.01568628], dtype=float32)>,\n",
      " 'Breed1': <tf.Tensor: id=60, shape=(1,), dtype=int32, numpy=array([307], dtype=int32)>,\n",
      " 'Breed2': <tf.Tensor: id=61, shape=(1,), dtype=int32, numpy=array([0], dtype=int32)>,\n",
      " 'Color1': <tf.Tensor: id=62, shape=(1,), dtype=int32, numpy=array([1], dtype=int32)>,\n",
      " 'Color2': <tf.Tensor: id=63, shape=(1,), dtype=int32, numpy=array([2], dtype=int32)>,\n",
      " 'Color3': <tf.Tensor: id=64, shape=(1,), dtype=int32, numpy=array([0], dtype=int32)>,\n",
      " 'Fee': <tf.Tensor: id=65, shape=(1,), dtype=float32, numpy=array([0.05], dtype=float32)>,\n",
      " 'description': <tf.Tensor: id=66, shape=(24,), dtype=int32, numpy=\n",
      "array([41, 42, 40, 35, 37, 35, 36, 35, 45, 50, 41, 44, 35, 46, 38, 48, 39,\n",
      "       47, 15, 43, 35, 49, 34, 34], dtype=int32)>,\n",
      " 'direct_features': <tf.Tensor: id=67, shape=(24,), dtype=float32, numpy=\n",
      "array([1., 0., 0., 1., 0., 0., 1., 0., 0., 1., 0., 0., 1., 0., 0., 1., 0.,\n",
      "       0., 0., 1., 0., 1., 0., 0.], dtype=float32)>}\n",
      "<tf.Tensor: id=68, shape=(5,), dtype=int32, numpy=array([0, 0, 1, 0, 0], dtype=int32)>\n",
      "\n"
     ]
    }
   ],
   "source": [
    "# Set output types of the generator (for numeric types check the type is valid)\n",
    "instance_types = {\n",
    "    \"direct_features\": tf.float32,\n",
    "    \"description\": tf.int32\n",
    "}\n",
    "\n",
    "for embedded_col in embedded_columns:\n",
    "    instance_types[embedded_col] = tf.int32\n",
    "\n",
    "for n_col in numeric_columns:\n",
    "    instance_types[n_col] = tf.float32\n",
    "\n",
    "tf_dataset = tf.data.Dataset.from_generator(\n",
    "    lambda: dataset_generator(dataset),\n",
    "    output_types=(instance_types, tf.int32)\n",
    ")\n",
    "\n",
    "for data, target in tf_dataset.take(2):\n",
    "    pprint(data)\n",
    "    pprint(target)\n",
    "    print()"
   ]
  },
  {
   "cell_type": "markdown",
   "metadata": {
    "Collapsed": "false",
    "colab_type": "text",
    "id": "VhtAelBQQSkC"
   },
   "source": [
    "## Datos de entrenamiento y validación\n",
    "\n",
    "Ya generado el conjunto de datos base, tenemos que dividirlo en entrenamiento y validación. Además, como vamos a utilizar algunos datos que forman secuencias, los lotes (*batches*) de datos deben estar \"rellenados\" (*padded_batch*). \n",
    "\n",
    "Si bien rellenaremos \"todos\" los atributos, en la práctica el único que efectivamente se rellenará es el de *description* pues es el único con tamaños distintos."
   ]
  },
  {
   "cell_type": "code",
   "execution_count": 14,
   "metadata": {
    "Collapsed": "false",
    "colab": {},
    "colab_type": "code",
    "id": "9jED-TDTQSkD"
   },
   "outputs": [],
   "source": [
    "TRAIN_SIZE = int(dataset.shape[0] * 0.8)\n",
    "DEV_SIZE = dataset.shape[0] - TRAIN_SIZE\n",
    "BATCH_SIZE = 128\n",
    "\n",
    "shuffled_dataset = tf_dataset.shuffle(TRAIN_SIZE + DEV_SIZE, seed=42)\n",
    "\n",
    "# Pad the datasets to the max value for all the \"non sequence\" features\n",
    "padding_shapes = (\n",
    "    {\n",
    "        k: [-1]\n",
    "        for k in [\"direct_features\"]\n",
    "        + list(embedded_columns.keys())\n",
    "        + list([(numeric_columns)[0]])\n",
    "        + list([(numeric_columns)[1]])\n",
    "    },\n",
    "    [-1],\n",
    ")\n",
    "\n",
    "# Pad to MAX_SEQUENCE_LEN for sequence features\n",
    "padding_shapes[0][\"description\"] = [MAX_SEQUENCE_LEN]\n",
    "\n",
    "# Pad values are irrelevant for non padded data\n",
    "padding_values = ({k: 0 for k in list(embedded_columns.keys())}, 0)\n",
    "\n",
    "# Padding value for direct features should be a float\n",
    "padding_values[0][\"direct_features\"] = np.float32(0)\n",
    "\n",
    "# Padding value for sequential features is the vocabulary length + 1\n",
    "padding_values[0][\"description\"] = len(vocabulary) + 1\n",
    "\n",
    "# Agregamos para las columnas numéricas\n",
    "padding_values[0][numeric_columns[0]] = np.float32(0)\n",
    "padding_values[0][numeric_columns[1]] = np.float32(0)\n",
    "\n",
    "\n",
    "train_dataset = shuffled_dataset.skip(DEV_SIZE).padded_batch(\n",
    "    BATCH_SIZE, padded_shapes=padding_shapes, padding_values=padding_values\n",
    ")\n",
    "\n",
    "dev_dataset = shuffled_dataset.take(DEV_SIZE).padded_batch(\n",
    "    BATCH_SIZE, padded_shapes=padding_shapes, padding_values=padding_values\n",
    ")\n",
    "\n",
    "#train_dataset = tf_dataset.skip(DEV_SIZE).shuffle(TRAIN_SIZE, seed=41231)\\\n",
    "#    .batch(BATCH_SIZE)\n",
    "\n",
    "#dev_dataset = tf_dataset.take(DEV_SIZE).shuffle(DEV_SIZE, seed=41231)\\\n",
    "#    .batch(BATCH_SIZE)"
   ]
  },
  {
   "cell_type": "markdown",
   "metadata": {
    "Collapsed": "false",
    "colab_type": "text",
    "id": "dVk-0c5KQSkG"
   },
   "source": [
    "## Construyendo el modelo\n",
    "\n",
    "Al modelo anterior tenemos que agregarle la capa que maneje los embeddings de las palabras, e inicializarla de manera acorde, podemos guiarnos por lo visto en el [notebook 3](./3_cnns.ipynb) para hacer esto.\n",
    "\n",
    "### Matriz de embeddings de palabras"
   ]
  },
  {
   "cell_type": "code",
   "execution_count": 15,
   "metadata": {
    "Collapsed": "false",
    "colab": {},
    "colab_type": "code",
    "id": "VNbTK4fzQSkH"
   },
   "outputs": [],
   "source": [
    "EMBEDDINGS_DIM = 100  # Given by the model (in this case glove.6B.100d)\n",
    "\n",
    "embedding_matrix = np.zeros((len(vocabulary) + 2, 100))\n",
    "\n",
    "for widx, word in vocabulary.items():\n",
    "    embedding_vector = embeddings_index.get(word)\n",
    "    if embedding_vector is not None:\n",
    "        embedding_matrix[widx] = embedding_vector\n",
    "    else:\n",
    "        # Random normal initialization for words without embeddings\n",
    "        embedding_matrix[widx] = np.random.normal(size=(100,))\n",
    "\n",
    "# Random normal initialization for unknown words\n",
    "embedding_matrix[len(vocabulary)] = np.random.normal(size=(100,))"
   ]
  },
  {
   "cell_type": "markdown",
   "metadata": {
    "Collapsed": "false",
    "colab_type": "text",
    "id": "fCqumyD9QSkK"
   },
   "source": [
    "### Definiendo los inputs del modelo\n",
    "\n",
    "Definamos los inputs del modelo, con el agregado de la capa de embeddings de palabras inicializada en `embedding_matrix`."
   ]
  },
  {
   "cell_type": "code",
   "execution_count": 16,
   "metadata": {
    "Collapsed": "false",
    "colab": {
     "base_uri": "https://localhost:8080/",
     "height": 101
    },
    "colab_type": "code",
    "executionInfo": {
     "elapsed": 30580,
     "status": "ok",
     "timestamp": 1574907220056,
     "user": {
      "displayName": "Claudio Sárate",
      "photoUrl": "https://lh3.googleusercontent.com/a-/AAuE7mAyvJcBOeDmirReKch-IfaEhczbBFhZkXiSlm968g=s64",
      "userId": "01992612555747043556"
     },
     "user_tz": 180
    },
    "id": "4iBB3sClQSkL",
    "outputId": "e90de9ce-5989-40fa-bce0-4313f27e6aa1"
   },
   "outputs": [
    {
     "name": "stdout",
     "output_type": "stream",
     "text": [
      "Adding embedding of size 77 for layer Breed1\n",
      "Adding embedding of size 77 for layer Breed2\n",
      "Adding embedding of size 2 for layer Color1\n",
      "Adding embedding of size 2 for layer Color2\n",
      "Adding embedding of size 2 for layer Color3\n"
     ]
    }
   ],
   "source": [
    "tf.keras.backend.clear_session()\n",
    "\n",
    "# Add one input and one embedding for each embedded column\n",
    "embedding_layers = []\n",
    "numeric_layer = []\n",
    "inputs = []\n",
    "for embedded_col, max_value in embedded_columns.items():\n",
    "    input_layer = tf.keras.layers.Input(shape=(1,), name=embedded_col)\n",
    "    inputs.append(input_layer)\n",
    "    # Define the embedding layer\n",
    "    embedding_size = int(max_value / 4)\n",
    "    embedding_layers.append(\n",
    "        tf.squeeze(\n",
    "            tf.keras.layers.Embedding(input_dim=max_value, output_dim=embedding_size)(\n",
    "                input_layer\n",
    "            ),\n",
    "            axis=-2,\n",
    "        )\n",
    "    )\n",
    "    print(\n",
    "        \"Adding embedding of size {} for layer {}\".format(embedding_size, embedded_col)\n",
    "    )\n",
    "\n",
    "# Add the direct features already calculated\n",
    "direct_features_input = tf.keras.layers.Input(\n",
    "    shape=(sum(one_hot_columns.values()),), name=\"direct_features\"\n",
    ")\n",
    "inputs.append(direct_features_input)\n",
    "\n",
    "# Add numeric columns\n",
    "numerical_inputs = [\n",
    "    tf.keras.layers.Input(shape=(1,), name=n_col) for n_col in numeric_columns\n",
    "]\n",
    "inputs += numerical_inputs\n",
    "\n",
    "# Word embedding layer\n",
    "description_input = tf.keras.layers.Input(shape=(MAX_SEQUENCE_LEN,), name=\"description\")\n",
    "inputs.append(description_input)\n",
    "\n",
    "word_embeddings_layer = tf.keras.layers.Embedding(\n",
    "    embedding_matrix.shape[0],\n",
    "    EMBEDDINGS_DIM,\n",
    "    weights=[embedding_matrix],\n",
    "    input_length=MAX_SEQUENCE_LEN,\n",
    "    trainable=False,\n",
    "    name=\"word_embedding\",\n",
    ")(description_input)"
   ]
  },
  {
   "cell_type": "markdown",
   "metadata": {
    "Collapsed": "false",
    "colab_type": "text",
    "id": "S3KbDrQEQSkO"
   },
   "source": [
    "### Definiendo la red que trabajará con el texto\n",
    "\n",
    "Antes de generar el *feature map* final entre los inputs y las clases, tenemos que generar el *feature map* de las secuencias de texto. \n"
   ]
  },
  {
   "cell_type": "code",
   "execution_count": 17,
   "metadata": {
    "Collapsed": "false",
    "colab": {},
    "colab_type": "code",
    "id": "r3ecSfyDQSkP"
   },
   "outputs": [],
   "source": [
    "## TODO: Create a NN (CNN or RNN) for the description input (replace the next)\n",
    "\n",
    "# Se utilizaran SimpleRNN, GRU y LSTM para ver diferencias de performance\n",
    "\n",
    "DESCRIPTION_FEATURES_LAYER_SIZE = 512\n",
    "\n",
    "# SimpleRNN\n",
    "\n",
    "#description_features = tf.keras.layers.SimpleRNN(units=256,\n",
    "#                                                 activation='tanh',\n",
    "#                                                 use_bias=True,\n",
    "#                                                 kernel_initializer='glorot_uniform',\n",
    "#                                                 recurrent_initializer='orthogonal',\n",
    "#                                                 bias_initializer='zeros',\n",
    "#                                                 dropout=0.2,\n",
    "#                                                 recurrent_dropout=0.2) (word_embeddings_layer)\n",
    "\n",
    "# GRU\n",
    "\n",
    "#description_features = tf.keras.layers.GRU(units=256,\n",
    "#                                           activation='tanh',\n",
    "#                                           recurrent_activation='sigmoid',\n",
    "#                                           use_bias=True,\n",
    "#                                           kernel_initializer='glorot_uniform',\n",
    "#                                           recurrent_initializer='orthogonal',\n",
    "#                                           bias_initializer='zeros',\n",
    "#                                           dropout=0.2,\n",
    "#                                           recurrent_dropout=0.2,\n",
    "#                                           implementation=2,\n",
    "#                                           return_sequences=False,\n",
    "#                                           return_state=False) (word_embeddings_layer)\n",
    "\n",
    "# LSTM\n",
    "\n",
    "description_features = tf.keras.layers.LSTM(units=256,\n",
    "                                            activation='tanh',\n",
    "                                            recurrent_activation='sigmoid',\n",
    "                                            use_bias=True,\n",
    "                                            kernel_initializer='glorot_uniform',\n",
    "                                            recurrent_initializer='orthogonal',\n",
    "                                            bias_initializer='zeros',\n",
    "                                            unit_forget_bias=True,\n",
    "                                            dropout=0.2,\n",
    "                                            recurrent_dropout=0.2,\n",
    "                                            implementation=2,\n",
    "                                            return_sequences=False,\n",
    "                                            return_state=False) (word_embeddings_layer)\n",
    "\n",
    "description_features = tf.keras.layers.Dense(\n",
    "    units=DESCRIPTION_FEATURES_LAYER_SIZE,\n",
    "    activation=\"relu\",\n",
    "    name=\"description_features\",\n",
    ")(description_features)"
   ]
  },
  {
   "cell_type": "markdown",
   "metadata": {
    "Collapsed": "false",
    "colab_type": "text",
    "id": "rF7jzuxCQSkU"
   },
   "source": [
    "### Definiendo el *feature map* final de la red\n",
    "\n",
    "Ahora que tenemos nuestra representación de las descripciones, pasamos a combinarlo con los demás features en la última parte de nuestra red."
   ]
  },
  {
   "cell_type": "code",
   "execution_count": 18,
   "metadata": {
    "Collapsed": "false",
    "colab": {},
    "colab_type": "code",
    "id": "FIeaiJwoQSkW"
   },
   "outputs": [],
   "source": [
    "HIDDEN_LAYER_SIZE = 128\n",
    "\n",
    "feature_map = tf.keras.layers.Concatenate(name=\"feature_map\")(\n",
    "    embedding_layers + numerical_inputs + [description_features, direct_features_input]\n",
    ")\n",
    "\n",
    "hidden_layer = tf.keras.layers.Dense(\n",
    "    HIDDEN_LAYER_SIZE, activation=\"relu\", kernel_regularizer=regularizers.l2(0.001)\n",
    ")(feature_map)\n",
    "hidden_layer = tf.keras.layers.BatchNormalization()(hidden_layer)\n",
    "hidden_layer = tf.keras.layers.Dropout(0.3)(hidden_layer)\n",
    "hidden_layer = tf.keras.layers.Dense(\n",
    "    HIDDEN_LAYER_SIZE / 2, activation=\"relu\", kernel_regularizer=regularizers.l2(0.001)\n",
    ")(hidden_layer)\n",
    "hidden_layer = tf.keras.layers.BatchNormalization()(hidden_layer)\n",
    "hidden_layer = tf.keras.layers.Dropout(0.3)(hidden_layer)\n",
    "\n",
    "output_layer = tf.keras.layers.Dense(nlabels, activation=\"softmax\", name=\"output\")(\n",
    "    hidden_layer\n",
    ")\n",
    "\n",
    "model = tf.keras.models.Model(\n",
    "    inputs=inputs, outputs=[output_layer], name=\"LSTM\"\n",
    ")"
   ]
  },
  {
   "cell_type": "markdown",
   "metadata": {
    "Collapsed": "false",
    "colab_type": "text",
    "id": "Iqa4_gMiQSkb"
   },
   "source": [
    "### Compilando y visualizando el modelo"
   ]
  },
  {
   "cell_type": "code",
   "execution_count": 19,
   "metadata": {
    "Collapsed": "false",
    "colab": {
     "base_uri": "https://localhost:8080/",
     "height": 1000
    },
    "colab_type": "code",
    "executionInfo": {
     "elapsed": 31010,
     "status": "ok",
     "timestamp": 1574907220506,
     "user": {
      "displayName": "Claudio Sárate",
      "photoUrl": "https://lh3.googleusercontent.com/a-/AAuE7mAyvJcBOeDmirReKch-IfaEhczbBFhZkXiSlm968g=s64",
      "userId": "01992612555747043556"
     },
     "user_tz": 180
    },
    "id": "E3Co5cjJQSkc",
    "outputId": "89b10087-27ef-45ac-b52f-6b577bd7c3b1"
   },
   "outputs": [
    {
     "name": "stdout",
     "output_type": "stream",
     "text": [
      "Model: \"LSTM\"\n",
      "__________________________________________________________________________________________________\n",
      "Layer (type)                    Output Shape         Param #     Connected to                     \n",
      "==================================================================================================\n",
      "description (InputLayer)        [(None, 55)]         0                                            \n",
      "__________________________________________________________________________________________________\n",
      "Breed1 (InputLayer)             [(None, 1)]          0                                            \n",
      "__________________________________________________________________________________________________\n",
      "Breed2 (InputLayer)             [(None, 1)]          0                                            \n",
      "__________________________________________________________________________________________________\n",
      "Color1 (InputLayer)             [(None, 1)]          0                                            \n",
      "__________________________________________________________________________________________________\n",
      "Color2 (InputLayer)             [(None, 1)]          0                                            \n",
      "__________________________________________________________________________________________________\n",
      "Color3 (InputLayer)             [(None, 1)]          0                                            \n",
      "__________________________________________________________________________________________________\n",
      "word_embedding (Embedding)      (None, 55, 100)      1000200     description[0][0]                \n",
      "__________________________________________________________________________________________________\n",
      "embedding (Embedding)           (None, 1, 77)        23716       Breed1[0][0]                     \n",
      "__________________________________________________________________________________________________\n",
      "embedding_1 (Embedding)         (None, 1, 77)        23716       Breed2[0][0]                     \n",
      "__________________________________________________________________________________________________\n",
      "embedding_2 (Embedding)         (None, 1, 2)         16          Color1[0][0]                     \n",
      "__________________________________________________________________________________________________\n",
      "embedding_3 (Embedding)         (None, 1, 2)         16          Color2[0][0]                     \n",
      "__________________________________________________________________________________________________\n",
      "embedding_4 (Embedding)         (None, 1, 2)         16          Color3[0][0]                     \n",
      "__________________________________________________________________________________________________\n",
      "lstm (LSTM)                     (None, 256)          365568      word_embedding[0][0]             \n",
      "__________________________________________________________________________________________________\n",
      "tf_op_layer_Squeeze (TensorFlow [(None, 77)]         0           embedding[0][0]                  \n",
      "__________________________________________________________________________________________________\n",
      "tf_op_layer_Squeeze_1 (TensorFl [(None, 77)]         0           embedding_1[0][0]                \n",
      "__________________________________________________________________________________________________\n",
      "tf_op_layer_Squeeze_2 (TensorFl [(None, 2)]          0           embedding_2[0][0]                \n",
      "__________________________________________________________________________________________________\n",
      "tf_op_layer_Squeeze_3 (TensorFl [(None, 2)]          0           embedding_3[0][0]                \n",
      "__________________________________________________________________________________________________\n",
      "tf_op_layer_Squeeze_4 (TensorFl [(None, 2)]          0           embedding_4[0][0]                \n",
      "__________________________________________________________________________________________________\n",
      "Age (InputLayer)                [(None, 1)]          0                                            \n",
      "__________________________________________________________________________________________________\n",
      "Fee (InputLayer)                [(None, 1)]          0                                            \n",
      "__________________________________________________________________________________________________\n",
      "description_features (Dense)    (None, 512)          131584      lstm[0][0]                       \n",
      "__________________________________________________________________________________________________\n",
      "direct_features (InputLayer)    [(None, 24)]         0                                            \n",
      "__________________________________________________________________________________________________\n",
      "feature_map (Concatenate)       (None, 698)          0           tf_op_layer_Squeeze[0][0]        \n",
      "                                                                 tf_op_layer_Squeeze_1[0][0]      \n",
      "                                                                 tf_op_layer_Squeeze_2[0][0]      \n",
      "                                                                 tf_op_layer_Squeeze_3[0][0]      \n",
      "                                                                 tf_op_layer_Squeeze_4[0][0]      \n",
      "                                                                 Age[0][0]                        \n",
      "                                                                 Fee[0][0]                        \n",
      "                                                                 description_features[0][0]       \n",
      "                                                                 direct_features[0][0]            \n",
      "__________________________________________________________________________________________________\n",
      "dense (Dense)                   (None, 128)          89472       feature_map[0][0]                \n",
      "__________________________________________________________________________________________________\n",
      "batch_normalization (BatchNorma (None, 128)          512         dense[0][0]                      \n",
      "__________________________________________________________________________________________________\n",
      "dropout (Dropout)               (None, 128)          0           batch_normalization[0][0]        \n",
      "__________________________________________________________________________________________________\n",
      "dense_1 (Dense)                 (None, 64)           8256        dropout[0][0]                    \n",
      "__________________________________________________________________________________________________\n",
      "batch_normalization_1 (BatchNor (None, 64)           256         dense_1[0][0]                    \n",
      "__________________________________________________________________________________________________\n",
      "dropout_1 (Dropout)             (None, 64)           0           batch_normalization_1[0][0]      \n",
      "__________________________________________________________________________________________________\n",
      "output (Dense)                  (None, 5)            325         dropout_1[0][0]                  \n",
      "==================================================================================================\n",
      "Total params: 1,643,653\n",
      "Trainable params: 643,069\n",
      "Non-trainable params: 1,000,584\n",
      "__________________________________________________________________________________________________\n"
     ]
    }
   ],
   "source": [
    "model.compile(loss=\"categorical_crossentropy\", optimizer=\"nadam\", metrics=[\"accuracy\"])\n",
    "model.summary()"
   ]
  },
  {
   "cell_type": "code",
   "execution_count": 20,
   "metadata": {
    "Collapsed": "false",
    "colab": {
     "base_uri": "https://localhost:8080/",
     "height": 984
    },
    "colab_type": "code",
    "executionInfo": {
     "elapsed": 31003,
     "status": "ok",
     "timestamp": 1574907220507,
     "user": {
      "displayName": "Claudio Sárate",
      "photoUrl": "https://lh3.googleusercontent.com/a-/AAuE7mAyvJcBOeDmirReKch-IfaEhczbBFhZkXiSlm968g=s64",
      "userId": "01992612555747043556"
     },
     "user_tz": 180
    },
    "id": "F3ZGJ5iuQSkf",
    "outputId": "b3560e77-5c12-4f2e-8e49-4128aa652763"
   },
   "outputs": [
    {
     "data": {
      "image/svg+xml": [
       "<svg height=\"471pt\" viewBox=\"0.00 0.00 2013.00 848.00\" width=\"1118pt\" xmlns=\"http://www.w3.org/2000/svg\" xmlns:xlink=\"http://www.w3.org/1999/xlink\">\n",
       "<g class=\"graph\" id=\"graph0\" transform=\"scale(.5556 .5556) rotate(0) translate(4 844)\">\n",
       "<title>G</title>\n",
       "<polygon fill=\"#ffffff\" points=\"-4,4 -4,-844 2009,-844 2009,4 -4,4\" stroke=\"transparent\"/>\n",
       "<!-- 140146936925488 -->\n",
       "<g class=\"node\" id=\"node1\">\n",
       "<title>140146936925488</title>\n",
       "<polygon fill=\"none\" points=\"19,-803.5 19,-839.5 163,-839.5 163,-803.5 19,-803.5\" stroke=\"#000000\"/>\n",
       "<text fill=\"#000000\" font-family=\"Times,serif\" font-size=\"14.00\" text-anchor=\"middle\" x=\"91\" y=\"-817.8\">description: InputLayer</text>\n",
       "</g>\n",
       "<!-- 140146936999664 -->\n",
       "<g class=\"node\" id=\"node7\">\n",
       "<title>140146936999664</title>\n",
       "<polygon fill=\"none\" points=\"0,-730.5 0,-766.5 182,-766.5 182,-730.5 0,-730.5\" stroke=\"#000000\"/>\n",
       "<text fill=\"#000000\" font-family=\"Times,serif\" font-size=\"14.00\" text-anchor=\"middle\" x=\"91\" y=\"-744.8\">word_embedding: Embedding</text>\n",
       "</g>\n",
       "<!-- 140146936925488&#45;&gt;140146936999664 -->\n",
       "<g class=\"edge\" id=\"edge1\">\n",
       "<title>140146936925488-&gt;140146936999664</title>\n",
       "<path d=\"M91,-803.4551C91,-795.3828 91,-785.6764 91,-776.6817\" fill=\"none\" stroke=\"#000000\"/>\n",
       "<polygon fill=\"#000000\" points=\"94.5001,-776.5903 91,-766.5904 87.5001,-776.5904 94.5001,-776.5903\" stroke=\"#000000\"/>\n",
       "</g>\n",
       "<!-- 140147043452856 -->\n",
       "<g class=\"node\" id=\"node2\">\n",
       "<title>140147043452856</title>\n",
       "<polygon fill=\"none\" points=\"256.5,-730.5 256.5,-766.5 379.5,-766.5 379.5,-730.5 256.5,-730.5\" stroke=\"#000000\"/>\n",
       "<text fill=\"#000000\" font-family=\"Times,serif\" font-size=\"14.00\" text-anchor=\"middle\" x=\"318\" y=\"-744.8\">Breed1: InputLayer</text>\n",
       "</g>\n",
       "<!-- 140146954879552 -->\n",
       "<g class=\"node\" id=\"node8\">\n",
       "<title>140146954879552</title>\n",
       "<polygon fill=\"none\" points=\"244,-657.5 244,-693.5 392,-693.5 392,-657.5 244,-657.5\" stroke=\"#000000\"/>\n",
       "<text fill=\"#000000\" font-family=\"Times,serif\" font-size=\"14.00\" text-anchor=\"middle\" x=\"318\" y=\"-671.8\">embedding: Embedding</text>\n",
       "</g>\n",
       "<!-- 140147043452856&#45;&gt;140146954879552 -->\n",
       "<g class=\"edge\" id=\"edge2\">\n",
       "<title>140147043452856-&gt;140146954879552</title>\n",
       "<path d=\"M318,-730.4551C318,-722.3828 318,-712.6764 318,-703.6817\" fill=\"none\" stroke=\"#000000\"/>\n",
       "<polygon fill=\"#000000\" points=\"321.5001,-703.5903 318,-693.5904 314.5001,-703.5904 321.5001,-703.5903\" stroke=\"#000000\"/>\n",
       "</g>\n",
       "<!-- 140146935957488 -->\n",
       "<g class=\"node\" id=\"node3\">\n",
       "<title>140146935957488</title>\n",
       "<polygon fill=\"none\" points=\"532.5,-730.5 532.5,-766.5 655.5,-766.5 655.5,-730.5 532.5,-730.5\" stroke=\"#000000\"/>\n",
       "<text fill=\"#000000\" font-family=\"Times,serif\" font-size=\"14.00\" text-anchor=\"middle\" x=\"594\" y=\"-744.8\">Breed2: InputLayer</text>\n",
       "</g>\n",
       "<!-- 140146935997552 -->\n",
       "<g class=\"node\" id=\"node9\">\n",
       "<title>140146935997552</title>\n",
       "<polygon fill=\"none\" points=\"513.5,-657.5 513.5,-693.5 674.5,-693.5 674.5,-657.5 513.5,-657.5\" stroke=\"#000000\"/>\n",
       "<text fill=\"#000000\" font-family=\"Times,serif\" font-size=\"14.00\" text-anchor=\"middle\" x=\"594\" y=\"-671.8\">embedding_1: Embedding</text>\n",
       "</g>\n",
       "<!-- 140146935957488&#45;&gt;140146935997552 -->\n",
       "<g class=\"edge\" id=\"edge3\">\n",
       "<title>140146935957488-&gt;140146935997552</title>\n",
       "<path d=\"M594,-730.4551C594,-722.3828 594,-712.6764 594,-703.6817\" fill=\"none\" stroke=\"#000000\"/>\n",
       "<polygon fill=\"#000000\" points=\"597.5001,-703.5903 594,-693.5904 590.5001,-703.5904 597.5001,-703.5903\" stroke=\"#000000\"/>\n",
       "</g>\n",
       "<!-- 140146936653640 -->\n",
       "<g class=\"node\" id=\"node4\">\n",
       "<title>140146936653640</title>\n",
       "<polygon fill=\"none\" points=\"816,-730.5 816,-766.5 938,-766.5 938,-730.5 816,-730.5\" stroke=\"#000000\"/>\n",
       "<text fill=\"#000000\" font-family=\"Times,serif\" font-size=\"14.00\" text-anchor=\"middle\" x=\"877\" y=\"-744.8\">Color1: InputLayer</text>\n",
       "</g>\n",
       "<!-- 140146936653192 -->\n",
       "<g class=\"node\" id=\"node10\">\n",
       "<title>140146936653192</title>\n",
       "<polygon fill=\"none\" points=\"796.5,-657.5 796.5,-693.5 957.5,-693.5 957.5,-657.5 796.5,-657.5\" stroke=\"#000000\"/>\n",
       "<text fill=\"#000000\" font-family=\"Times,serif\" font-size=\"14.00\" text-anchor=\"middle\" x=\"877\" y=\"-671.8\">embedding_2: Embedding</text>\n",
       "</g>\n",
       "<!-- 140146936653640&#45;&gt;140146936653192 -->\n",
       "<g class=\"edge\" id=\"edge4\">\n",
       "<title>140146936653640-&gt;140146936653192</title>\n",
       "<path d=\"M877,-730.4551C877,-722.3828 877,-712.6764 877,-703.6817\" fill=\"none\" stroke=\"#000000\"/>\n",
       "<polygon fill=\"#000000\" points=\"880.5001,-703.5903 877,-693.5904 873.5001,-703.5904 880.5001,-703.5903\" stroke=\"#000000\"/>\n",
       "</g>\n",
       "<!-- 140146935996488 -->\n",
       "<g class=\"node\" id=\"node5\">\n",
       "<title>140146935996488</title>\n",
       "<polygon fill=\"none\" points=\"1099,-730.5 1099,-766.5 1221,-766.5 1221,-730.5 1099,-730.5\" stroke=\"#000000\"/>\n",
       "<text fill=\"#000000\" font-family=\"Times,serif\" font-size=\"14.00\" text-anchor=\"middle\" x=\"1160\" y=\"-744.8\">Color2: InputLayer</text>\n",
       "</g>\n",
       "<!-- 140146936583784 -->\n",
       "<g class=\"node\" id=\"node11\">\n",
       "<title>140146936583784</title>\n",
       "<polygon fill=\"none\" points=\"1079.5,-657.5 1079.5,-693.5 1240.5,-693.5 1240.5,-657.5 1079.5,-657.5\" stroke=\"#000000\"/>\n",
       "<text fill=\"#000000\" font-family=\"Times,serif\" font-size=\"14.00\" text-anchor=\"middle\" x=\"1160\" y=\"-671.8\">embedding_3: Embedding</text>\n",
       "</g>\n",
       "<!-- 140146935996488&#45;&gt;140146936583784 -->\n",
       "<g class=\"edge\" id=\"edge5\">\n",
       "<title>140146935996488-&gt;140146936583784</title>\n",
       "<path d=\"M1160,-730.4551C1160,-722.3828 1160,-712.6764 1160,-703.6817\" fill=\"none\" stroke=\"#000000\"/>\n",
       "<polygon fill=\"#000000\" points=\"1163.5001,-703.5903 1160,-693.5904 1156.5001,-703.5904 1163.5001,-703.5903\" stroke=\"#000000\"/>\n",
       "</g>\n",
       "<!-- 140146936850528 -->\n",
       "<g class=\"node\" id=\"node6\">\n",
       "<title>140146936850528</title>\n",
       "<polygon fill=\"none\" points=\"1382,-730.5 1382,-766.5 1504,-766.5 1504,-730.5 1382,-730.5\" stroke=\"#000000\"/>\n",
       "<text fill=\"#000000\" font-family=\"Times,serif\" font-size=\"14.00\" text-anchor=\"middle\" x=\"1443\" y=\"-744.8\">Color3: InputLayer</text>\n",
       "</g>\n",
       "<!-- 140146936850080 -->\n",
       "<g class=\"node\" id=\"node12\">\n",
       "<title>140146936850080</title>\n",
       "<polygon fill=\"none\" points=\"1362.5,-657.5 1362.5,-693.5 1523.5,-693.5 1523.5,-657.5 1362.5,-657.5\" stroke=\"#000000\"/>\n",
       "<text fill=\"#000000\" font-family=\"Times,serif\" font-size=\"14.00\" text-anchor=\"middle\" x=\"1443\" y=\"-671.8\">embedding_4: Embedding</text>\n",
       "</g>\n",
       "<!-- 140146936850528&#45;&gt;140146936850080 -->\n",
       "<g class=\"edge\" id=\"edge6\">\n",
       "<title>140146936850528-&gt;140146936850080</title>\n",
       "<path d=\"M1443,-730.4551C1443,-722.3828 1443,-712.6764 1443,-703.6817\" fill=\"none\" stroke=\"#000000\"/>\n",
       "<polygon fill=\"#000000\" points=\"1446.5001,-703.5903 1443,-693.5904 1439.5001,-703.5904 1446.5001,-703.5903\" stroke=\"#000000\"/>\n",
       "</g>\n",
       "<!-- 140146935906656 -->\n",
       "<g class=\"node\" id=\"node13\">\n",
       "<title>140146935906656</title>\n",
       "<polygon fill=\"none\" points=\"48.5,-657.5 48.5,-693.5 133.5,-693.5 133.5,-657.5 48.5,-657.5\" stroke=\"#000000\"/>\n",
       "<text fill=\"#000000\" font-family=\"Times,serif\" font-size=\"14.00\" text-anchor=\"middle\" x=\"91\" y=\"-671.8\">lstm: LSTM</text>\n",
       "</g>\n",
       "<!-- 140146936999664&#45;&gt;140146935906656 -->\n",
       "<g class=\"edge\" id=\"edge7\">\n",
       "<title>140146936999664-&gt;140146935906656</title>\n",
       "<path d=\"M91,-730.4551C91,-722.3828 91,-712.6764 91,-703.6817\" fill=\"none\" stroke=\"#000000\"/>\n",
       "<polygon fill=\"#000000\" points=\"94.5001,-703.5903 91,-693.5904 87.5001,-703.5904 94.5001,-703.5903\" stroke=\"#000000\"/>\n",
       "</g>\n",
       "<!-- 140146954893632 -->\n",
       "<g class=\"node\" id=\"node14\">\n",
       "<title>140146954893632</title>\n",
       "<polygon fill=\"none\" points=\"192.5,-584.5 192.5,-620.5 443.5,-620.5 443.5,-584.5 192.5,-584.5\" stroke=\"#000000\"/>\n",
       "<text fill=\"#000000\" font-family=\"Times,serif\" font-size=\"14.00\" text-anchor=\"middle\" x=\"318\" y=\"-598.8\">tf_op_layer_Squeeze: TensorFlowOpLayer</text>\n",
       "</g>\n",
       "<!-- 140146954879552&#45;&gt;140146954893632 -->\n",
       "<g class=\"edge\" id=\"edge8\">\n",
       "<title>140146954879552-&gt;140146954893632</title>\n",
       "<path d=\"M318,-657.4551C318,-649.3828 318,-639.6764 318,-630.6817\" fill=\"none\" stroke=\"#000000\"/>\n",
       "<polygon fill=\"#000000\" points=\"321.5001,-630.5903 318,-620.5904 314.5001,-630.5904 321.5001,-630.5903\" stroke=\"#000000\"/>\n",
       "</g>\n",
       "<!-- 140146932422304 -->\n",
       "<g class=\"node\" id=\"node15\">\n",
       "<title>140146932422304</title>\n",
       "<polygon fill=\"none\" points=\"461.5,-584.5 461.5,-620.5 726.5,-620.5 726.5,-584.5 461.5,-584.5\" stroke=\"#000000\"/>\n",
       "<text fill=\"#000000\" font-family=\"Times,serif\" font-size=\"14.00\" text-anchor=\"middle\" x=\"594\" y=\"-598.8\">tf_op_layer_Squeeze_1: TensorFlowOpLayer</text>\n",
       "</g>\n",
       "<!-- 140146935997552&#45;&gt;140146932422304 -->\n",
       "<g class=\"edge\" id=\"edge9\">\n",
       "<title>140146935997552-&gt;140146932422304</title>\n",
       "<path d=\"M594,-657.4551C594,-649.3828 594,-639.6764 594,-630.6817\" fill=\"none\" stroke=\"#000000\"/>\n",
       "<polygon fill=\"#000000\" points=\"597.5001,-630.5903 594,-620.5904 590.5001,-630.5904 597.5001,-630.5903\" stroke=\"#000000\"/>\n",
       "</g>\n",
       "<!-- 140146932423032 -->\n",
       "<g class=\"node\" id=\"node16\">\n",
       "<title>140146932423032</title>\n",
       "<polygon fill=\"none\" points=\"744.5,-584.5 744.5,-620.5 1009.5,-620.5 1009.5,-584.5 744.5,-584.5\" stroke=\"#000000\"/>\n",
       "<text fill=\"#000000\" font-family=\"Times,serif\" font-size=\"14.00\" text-anchor=\"middle\" x=\"877\" y=\"-598.8\">tf_op_layer_Squeeze_2: TensorFlowOpLayer</text>\n",
       "</g>\n",
       "<!-- 140146936653192&#45;&gt;140146932423032 -->\n",
       "<g class=\"edge\" id=\"edge10\">\n",
       "<title>140146936653192-&gt;140146932423032</title>\n",
       "<path d=\"M877,-657.4551C877,-649.3828 877,-639.6764 877,-630.6817\" fill=\"none\" stroke=\"#000000\"/>\n",
       "<polygon fill=\"#000000\" points=\"880.5001,-630.5903 877,-620.5904 873.5001,-630.5904 880.5001,-630.5903\" stroke=\"#000000\"/>\n",
       "</g>\n",
       "<!-- 140146932423648 -->\n",
       "<g class=\"node\" id=\"node17\">\n",
       "<title>140146932423648</title>\n",
       "<polygon fill=\"none\" points=\"1027.5,-584.5 1027.5,-620.5 1292.5,-620.5 1292.5,-584.5 1027.5,-584.5\" stroke=\"#000000\"/>\n",
       "<text fill=\"#000000\" font-family=\"Times,serif\" font-size=\"14.00\" text-anchor=\"middle\" x=\"1160\" y=\"-598.8\">tf_op_layer_Squeeze_3: TensorFlowOpLayer</text>\n",
       "</g>\n",
       "<!-- 140146936583784&#45;&gt;140146932423648 -->\n",
       "<g class=\"edge\" id=\"edge11\">\n",
       "<title>140146936583784-&gt;140146932423648</title>\n",
       "<path d=\"M1160,-657.4551C1160,-649.3828 1160,-639.6764 1160,-630.6817\" fill=\"none\" stroke=\"#000000\"/>\n",
       "<polygon fill=\"#000000\" points=\"1163.5001,-630.5903 1160,-620.5904 1156.5001,-630.5904 1163.5001,-630.5903\" stroke=\"#000000\"/>\n",
       "</g>\n",
       "<!-- 140146932424264 -->\n",
       "<g class=\"node\" id=\"node18\">\n",
       "<title>140146932424264</title>\n",
       "<polygon fill=\"none\" points=\"1310.5,-584.5 1310.5,-620.5 1575.5,-620.5 1575.5,-584.5 1310.5,-584.5\" stroke=\"#000000\"/>\n",
       "<text fill=\"#000000\" font-family=\"Times,serif\" font-size=\"14.00\" text-anchor=\"middle\" x=\"1443\" y=\"-598.8\">tf_op_layer_Squeeze_4: TensorFlowOpLayer</text>\n",
       "</g>\n",
       "<!-- 140146936850080&#45;&gt;140146932424264 -->\n",
       "<g class=\"edge\" id=\"edge12\">\n",
       "<title>140146936850080-&gt;140146932424264</title>\n",
       "<path d=\"M1443,-657.4551C1443,-649.3828 1443,-639.6764 1443,-630.6817\" fill=\"none\" stroke=\"#000000\"/>\n",
       "<polygon fill=\"#000000\" points=\"1446.5001,-630.5903 1443,-620.5904 1439.5001,-630.5904 1446.5001,-630.5903\" stroke=\"#000000\"/>\n",
       "</g>\n",
       "<!-- 140146935906376 -->\n",
       "<g class=\"node\" id=\"node21\">\n",
       "<title>140146935906376</title>\n",
       "<polygon fill=\"none\" points=\"7.5,-584.5 7.5,-620.5 174.5,-620.5 174.5,-584.5 7.5,-584.5\" stroke=\"#000000\"/>\n",
       "<text fill=\"#000000\" font-family=\"Times,serif\" font-size=\"14.00\" text-anchor=\"middle\" x=\"91\" y=\"-598.8\">description_features: Dense</text>\n",
       "</g>\n",
       "<!-- 140146935906656&#45;&gt;140146935906376 -->\n",
       "<g class=\"edge\" id=\"edge13\">\n",
       "<title>140146935906656-&gt;140146935906376</title>\n",
       "<path d=\"M91,-657.4551C91,-649.3828 91,-639.6764 91,-630.6817\" fill=\"none\" stroke=\"#000000\"/>\n",
       "<polygon fill=\"#000000\" points=\"94.5001,-630.5903 91,-620.5904 87.5001,-630.5904 94.5001,-630.5903\" stroke=\"#000000\"/>\n",
       "</g>\n",
       "<!-- 140146932421408 -->\n",
       "<g class=\"node\" id=\"node23\">\n",
       "<title>140146932421408</title>\n",
       "<polygon fill=\"none\" points=\"1080.5,-511.5 1080.5,-547.5 1239.5,-547.5 1239.5,-511.5 1080.5,-511.5\" stroke=\"#000000\"/>\n",
       "<text fill=\"#000000\" font-family=\"Times,serif\" font-size=\"14.00\" text-anchor=\"middle\" x=\"1160\" y=\"-525.8\">feature_map: Concatenate</text>\n",
       "</g>\n",
       "<!-- 140146954893632&#45;&gt;140146932421408 -->\n",
       "<g class=\"edge\" id=\"edge14\">\n",
       "<title>140146954893632-&gt;140146932421408</title>\n",
       "<path d=\"M443.5078,-584.9384C446.3642,-584.6144 449.198,-584.301 452,-584 673.753,-560.1794 935.6659,-542.8086 1070.2328,-534.6677\" fill=\"none\" stroke=\"#000000\"/>\n",
       "<polygon fill=\"#000000\" points=\"1070.7163,-538.145 1080.4878,-534.0503 1070.2955,-531.1577 1070.7163,-538.145\" stroke=\"#000000\"/>\n",
       "</g>\n",
       "<!-- 140146932422304&#45;&gt;140146932421408 -->\n",
       "<g class=\"edge\" id=\"edge15\">\n",
       "<title>140146932422304-&gt;140146932421408</title>\n",
       "<path d=\"M726.8411,-585.0595C729.5847,-584.7029 732.3068,-584.3494 735,-584 850.8441,-568.9727 984.4834,-551.8744 1070.4977,-540.9002\" fill=\"none\" stroke=\"#000000\"/>\n",
       "<polygon fill=\"#000000\" points=\"1071.0099,-544.3633 1080.4866,-539.626 1070.1241,-537.4196 1071.0099,-544.3633\" stroke=\"#000000\"/>\n",
       "</g>\n",
       "<!-- 140146932423032&#45;&gt;140146932421408 -->\n",
       "<g class=\"edge\" id=\"edge16\">\n",
       "<title>140146932423032-&gt;140146932421408</title>\n",
       "<path d=\"M946.9551,-584.4551C987.2627,-574.0577 1038.0812,-560.949 1079.9752,-550.1424\" fill=\"none\" stroke=\"#000000\"/>\n",
       "<polygon fill=\"#000000\" points=\"1081.0601,-553.4772 1089.8689,-547.5904 1079.3116,-546.6991 1081.0601,-553.4772\" stroke=\"#000000\"/>\n",
       "</g>\n",
       "<!-- 140146932423648&#45;&gt;140146932421408 -->\n",
       "<g class=\"edge\" id=\"edge17\">\n",
       "<title>140146932423648-&gt;140146932421408</title>\n",
       "<path d=\"M1160,-584.4551C1160,-576.3828 1160,-566.6764 1160,-557.6817\" fill=\"none\" stroke=\"#000000\"/>\n",
       "<polygon fill=\"#000000\" points=\"1163.5001,-557.5903 1160,-547.5904 1156.5001,-557.5904 1163.5001,-557.5903\" stroke=\"#000000\"/>\n",
       "</g>\n",
       "<!-- 140146932424264&#45;&gt;140146932421408 -->\n",
       "<g class=\"edge\" id=\"edge18\">\n",
       "<title>140146932424264-&gt;140146932421408</title>\n",
       "<path d=\"M1373.0449,-584.4551C1332.7373,-574.0577 1281.9188,-560.949 1240.0248,-550.1424\" fill=\"none\" stroke=\"#000000\"/>\n",
       "<polygon fill=\"#000000\" points=\"1240.6884,-546.6991 1230.1311,-547.5904 1238.9399,-553.4772 1240.6884,-546.6991\" stroke=\"#000000\"/>\n",
       "</g>\n",
       "<!-- 140146936923696 -->\n",
       "<g class=\"node\" id=\"node19\">\n",
       "<title>140146936923696</title>\n",
       "<polygon fill=\"none\" points=\"1593.5,-584.5 1593.5,-620.5 1700.5,-620.5 1700.5,-584.5 1593.5,-584.5\" stroke=\"#000000\"/>\n",
       "<text fill=\"#000000\" font-family=\"Times,serif\" font-size=\"14.00\" text-anchor=\"middle\" x=\"1647\" y=\"-598.8\">Age: InputLayer</text>\n",
       "</g>\n",
       "<!-- 140146936923696&#45;&gt;140146932421408 -->\n",
       "<g class=\"edge\" id=\"edge19\">\n",
       "<title>140146936923696-&gt;140146932421408</title>\n",
       "<path d=\"M1593.1857,-586.0905C1590.09,-585.336 1587.0123,-584.6318 1584,-584 1469.7625,-560.0415 1335.8608,-544.9511 1249.572,-536.8752\" fill=\"none\" stroke=\"#000000\"/>\n",
       "<polygon fill=\"#000000\" points=\"1249.8303,-533.3842 1239.5506,-535.9488 1249.1859,-540.3545 1249.8303,-533.3842\" stroke=\"#000000\"/>\n",
       "</g>\n",
       "<!-- 140146936997480 -->\n",
       "<g class=\"node\" id=\"node20\">\n",
       "<title>140146936997480</title>\n",
       "<polygon fill=\"none\" points=\"1719,-584.5 1719,-620.5 1823,-620.5 1823,-584.5 1719,-584.5\" stroke=\"#000000\"/>\n",
       "<text fill=\"#000000\" font-family=\"Times,serif\" font-size=\"14.00\" text-anchor=\"middle\" x=\"1771\" y=\"-598.8\">Fee: InputLayer</text>\n",
       "</g>\n",
       "<!-- 140146936997480&#45;&gt;140146932421408 -->\n",
       "<g class=\"edge\" id=\"edge20\">\n",
       "<title>140146936997480-&gt;140146932421408</title>\n",
       "<path d=\"M1718.7457,-586.1432C1715.4638,-585.3537 1712.1961,-584.6295 1709,-584 1549.0656,-552.5008 1359.1473,-538.7962 1249.7943,-533.1479\" fill=\"none\" stroke=\"#000000\"/>\n",
       "<polygon fill=\"#000000\" points=\"1249.9557,-529.6517 1239.7917,-532.6421 1249.6022,-536.6427 1249.9557,-529.6517\" stroke=\"#000000\"/>\n",
       "</g>\n",
       "<!-- 140146935906376&#45;&gt;140146932421408 -->\n",
       "<g class=\"edge\" id=\"edge21\">\n",
       "<title>140146935906376-&gt;140146932421408</title>\n",
       "<path d=\"M174.6532,-585.1518C177.4646,-584.737 180.2527,-584.351 183,-584 353.0642,-562.2706 862.3064,-540.9263 1070.1583,-532.8679\" fill=\"none\" stroke=\"#000000\"/>\n",
       "<polygon fill=\"#000000\" points=\"1070.5669,-536.3548 1080.4243,-532.4712 1070.2966,-529.36 1070.5669,-536.3548\" stroke=\"#000000\"/>\n",
       "</g>\n",
       "<!-- 140146935803352 -->\n",
       "<g class=\"node\" id=\"node22\">\n",
       "<title>140146935803352</title>\n",
       "<polygon fill=\"none\" points=\"1841,-584.5 1841,-620.5 2005,-620.5 2005,-584.5 1841,-584.5\" stroke=\"#000000\"/>\n",
       "<text fill=\"#000000\" font-family=\"Times,serif\" font-size=\"14.00\" text-anchor=\"middle\" x=\"1923\" y=\"-598.8\">direct_features: InputLayer</text>\n",
       "</g>\n",
       "<!-- 140146935803352&#45;&gt;140146932421408 -->\n",
       "<g class=\"edge\" id=\"edge22\">\n",
       "<title>140146935803352-&gt;140146932421408</title>\n",
       "<path d=\"M1840.7366,-585.3171C1837.7923,-584.8484 1834.8732,-584.4071 1832,-584 1624.8038,-554.6443 1379.2573,-539.7101 1249.9806,-533.3717\" fill=\"none\" stroke=\"#000000\"/>\n",
       "<polygon fill=\"#000000\" points=\"1249.8943,-529.8635 1239.7366,-532.8755 1249.5555,-536.8553 1249.8943,-529.8635\" stroke=\"#000000\"/>\n",
       "</g>\n",
       "<!-- 140146932421856 -->\n",
       "<g class=\"node\" id=\"node24\">\n",
       "<title>140146932421856</title>\n",
       "<polygon fill=\"none\" points=\"1115.5,-438.5 1115.5,-474.5 1204.5,-474.5 1204.5,-438.5 1115.5,-438.5\" stroke=\"#000000\"/>\n",
       "<text fill=\"#000000\" font-family=\"Times,serif\" font-size=\"14.00\" text-anchor=\"middle\" x=\"1160\" y=\"-452.8\">dense: Dense</text>\n",
       "</g>\n",
       "<!-- 140146932421408&#45;&gt;140146932421856 -->\n",
       "<g class=\"edge\" id=\"edge23\">\n",
       "<title>140146932421408-&gt;140146932421856</title>\n",
       "<path d=\"M1160,-511.4551C1160,-503.3828 1160,-493.6764 1160,-484.6817\" fill=\"none\" stroke=\"#000000\"/>\n",
       "<polygon fill=\"#000000\" points=\"1163.5001,-484.5903 1160,-474.5904 1156.5001,-484.5904 1163.5001,-484.5903\" stroke=\"#000000\"/>\n",
       "</g>\n",
       "<!-- 140146932421464 -->\n",
       "<g class=\"node\" id=\"node25\">\n",
       "<title>140146932421464</title>\n",
       "<polygon fill=\"none\" points=\"1037,-365.5 1037,-401.5 1283,-401.5 1283,-365.5 1037,-365.5\" stroke=\"#000000\"/>\n",
       "<text fill=\"#000000\" font-family=\"Times,serif\" font-size=\"14.00\" text-anchor=\"middle\" x=\"1160\" y=\"-379.8\">batch_normalization: BatchNormalization</text>\n",
       "</g>\n",
       "<!-- 140146932421856&#45;&gt;140146932421464 -->\n",
       "<g class=\"edge\" id=\"edge24\">\n",
       "<title>140146932421856-&gt;140146932421464</title>\n",
       "<path d=\"M1160,-438.4551C1160,-430.3828 1160,-420.6764 1160,-411.6817\" fill=\"none\" stroke=\"#000000\"/>\n",
       "<polygon fill=\"#000000\" points=\"1163.5001,-411.5903 1160,-401.5904 1156.5001,-411.5904 1163.5001,-411.5903\" stroke=\"#000000\"/>\n",
       "</g>\n",
       "<!-- 140146932582720 -->\n",
       "<g class=\"node\" id=\"node26\">\n",
       "<title>140146932582720</title>\n",
       "<polygon fill=\"none\" points=\"1104.5,-292.5 1104.5,-328.5 1215.5,-328.5 1215.5,-292.5 1104.5,-292.5\" stroke=\"#000000\"/>\n",
       "<text fill=\"#000000\" font-family=\"Times,serif\" font-size=\"14.00\" text-anchor=\"middle\" x=\"1160\" y=\"-306.8\">dropout: Dropout</text>\n",
       "</g>\n",
       "<!-- 140146932421464&#45;&gt;140146932582720 -->\n",
       "<g class=\"edge\" id=\"edge25\">\n",
       "<title>140146932421464-&gt;140146932582720</title>\n",
       "<path d=\"M1160,-365.4551C1160,-357.3828 1160,-347.6764 1160,-338.6817\" fill=\"none\" stroke=\"#000000\"/>\n",
       "<polygon fill=\"#000000\" points=\"1163.5001,-338.5903 1160,-328.5904 1156.5001,-338.5904 1163.5001,-338.5903\" stroke=\"#000000\"/>\n",
       "</g>\n",
       "<!-- 140146932582440 -->\n",
       "<g class=\"node\" id=\"node27\">\n",
       "<title>140146932582440</title>\n",
       "<polygon fill=\"none\" points=\"1109,-219.5 1109,-255.5 1211,-255.5 1211,-219.5 1109,-219.5\" stroke=\"#000000\"/>\n",
       "<text fill=\"#000000\" font-family=\"Times,serif\" font-size=\"14.00\" text-anchor=\"middle\" x=\"1160\" y=\"-233.8\">dense_1: Dense</text>\n",
       "</g>\n",
       "<!-- 140146932582720&#45;&gt;140146932582440 -->\n",
       "<g class=\"edge\" id=\"edge26\">\n",
       "<title>140146932582720-&gt;140146932582440</title>\n",
       "<path d=\"M1160,-292.4551C1160,-284.3828 1160,-274.6764 1160,-265.6817\" fill=\"none\" stroke=\"#000000\"/>\n",
       "<polygon fill=\"#000000\" points=\"1163.5001,-265.5903 1160,-255.5904 1156.5001,-265.5904 1163.5001,-265.5903\" stroke=\"#000000\"/>\n",
       "</g>\n",
       "<!-- 140146932472296 -->\n",
       "<g class=\"node\" id=\"node28\">\n",
       "<title>140146932472296</title>\n",
       "<polygon fill=\"none\" points=\"1030,-146.5 1030,-182.5 1290,-182.5 1290,-146.5 1030,-146.5\" stroke=\"#000000\"/>\n",
       "<text fill=\"#000000\" font-family=\"Times,serif\" font-size=\"14.00\" text-anchor=\"middle\" x=\"1160\" y=\"-160.8\">batch_normalization_1: BatchNormalization</text>\n",
       "</g>\n",
       "<!-- 140146932582440&#45;&gt;140146932472296 -->\n",
       "<g class=\"edge\" id=\"edge27\">\n",
       "<title>140146932582440-&gt;140146932472296</title>\n",
       "<path d=\"M1160,-219.4551C1160,-211.3828 1160,-201.6764 1160,-192.6817\" fill=\"none\" stroke=\"#000000\"/>\n",
       "<polygon fill=\"#000000\" points=\"1163.5001,-192.5903 1160,-182.5904 1156.5001,-192.5904 1163.5001,-192.5903\" stroke=\"#000000\"/>\n",
       "</g>\n",
       "<!-- 140146931703144 -->\n",
       "<g class=\"node\" id=\"node29\">\n",
       "<title>140146931703144</title>\n",
       "<polygon fill=\"none\" points=\"1097.5,-73.5 1097.5,-109.5 1222.5,-109.5 1222.5,-73.5 1097.5,-73.5\" stroke=\"#000000\"/>\n",
       "<text fill=\"#000000\" font-family=\"Times,serif\" font-size=\"14.00\" text-anchor=\"middle\" x=\"1160\" y=\"-87.8\">dropout_1: Dropout</text>\n",
       "</g>\n",
       "<!-- 140146932472296&#45;&gt;140146931703144 -->\n",
       "<g class=\"edge\" id=\"edge28\">\n",
       "<title>140146932472296-&gt;140146931703144</title>\n",
       "<path d=\"M1160,-146.4551C1160,-138.3828 1160,-128.6764 1160,-119.6817\" fill=\"none\" stroke=\"#000000\"/>\n",
       "<polygon fill=\"#000000\" points=\"1163.5001,-119.5903 1160,-109.5904 1156.5001,-119.5904 1163.5001,-119.5903\" stroke=\"#000000\"/>\n",
       "</g>\n",
       "<!-- 140146931417608 -->\n",
       "<g class=\"node\" id=\"node30\">\n",
       "<title>140146931417608</title>\n",
       "<polygon fill=\"none\" points=\"1114,-.5 1114,-36.5 1206,-36.5 1206,-.5 1114,-.5\" stroke=\"#000000\"/>\n",
       "<text fill=\"#000000\" font-family=\"Times,serif\" font-size=\"14.00\" text-anchor=\"middle\" x=\"1160\" y=\"-14.8\">output: Dense</text>\n",
       "</g>\n",
       "<!-- 140146931703144&#45;&gt;140146931417608 -->\n",
       "<g class=\"edge\" id=\"edge29\">\n",
       "<title>140146931703144-&gt;140146931417608</title>\n",
       "<path d=\"M1160,-73.4551C1160,-65.3828 1160,-55.6764 1160,-46.6817\" fill=\"none\" stroke=\"#000000\"/>\n",
       "<polygon fill=\"#000000\" points=\"1163.5001,-46.5903 1160,-36.5904 1156.5001,-46.5904 1163.5001,-46.5903\" stroke=\"#000000\"/>\n",
       "</g>\n",
       "</g>\n",
       "</svg>"
      ],
      "text/plain": [
       "<IPython.core.display.SVG object>"
      ]
     },
     "execution_count": 20,
     "metadata": {},
     "output_type": "execute_result"
    }
   ],
   "source": [
    "SVG(tf.keras.utils.model_to_dot(model, dpi=40).create(prog=\"dot\", format=\"svg\"))"
   ]
  },
  {
   "cell_type": "markdown",
   "metadata": {
    "Collapsed": "false",
    "colab_type": "text",
    "id": "PMFADoScQSkh"
   },
   "source": [
    "## Entrenando el modelo\n",
    "\n",
    "Para entrenar el modelo es igual al caso anterior, ya generados el conjunto de datos correspondiente. Lo entrenamos con ayuda de `mlflow`."
   ]
  },
  {
   "cell_type": "code",
   "execution_count": 21,
   "metadata": {
    "Collapsed": "false",
    "colab": {
     "base_uri": "https://localhost:8080/",
     "height": 1000
    },
    "colab_type": "code",
    "executionInfo": {
     "elapsed": 397947,
     "status": "ok",
     "timestamp": 1574907587498,
     "user": {
      "displayName": "Claudio Sárate",
      "photoUrl": "https://lh3.googleusercontent.com/a-/AAuE7mAyvJcBOeDmirReKch-IfaEhczbBFhZkXiSlm968g=s64",
      "userId": "01992612555747043556"
     },
     "user_tz": 180
    },
    "id": "nkbyR14JQSki",
    "outputId": "18947a84-91c0-4905-f39e-ba3fd6fb8fee"
   },
   "outputs": [
    {
     "name": "stdout",
     "output_type": "stream",
     "text": [
      "Epoch 1/30\n",
      "67/67 [==============================] - 46s 685ms/step - loss: 2.2976 - accuracy: 0.2426\n",
      "Epoch 2/30\n",
      "67/67 [==============================] - 40s 595ms/step - loss: 1.9797 - accuracy: 0.2937\n",
      "Epoch 3/30\n",
      "67/67 [==============================] - 38s 574ms/step - loss: 1.8550 - accuracy: 0.3168\n",
      "Epoch 4/30\n",
      "67/67 [==============================] - 39s 579ms/step - loss: 1.7739 - accuracy: 0.3314\n",
      "Epoch 5/30\n",
      "67/67 [==============================] - 38s 574ms/step - loss: 1.7224 - accuracy: 0.3279\n",
      "Epoch 6/30\n",
      "67/67 [==============================] - 40s 592ms/step - loss: 1.6672 - accuracy: 0.3435\n",
      "Epoch 7/30\n",
      "67/67 [==============================] - 39s 583ms/step - loss: 1.6274 - accuracy: 0.3518\n",
      "Epoch 8/30\n",
      "67/67 [==============================] - 38s 575ms/step - loss: 1.6064 - accuracy: 0.3491\n",
      "Epoch 9/30\n",
      "67/67 [==============================] - 38s 574ms/step - loss: 1.5650 - accuracy: 0.3650\n",
      "Epoch 10/30\n",
      "67/67 [==============================] - 39s 582ms/step - loss: 1.5460 - accuracy: 0.3627\n",
      "Epoch 11/30\n",
      "67/67 [==============================] - 38s 572ms/step - loss: 1.5283 - accuracy: 0.3677\n",
      "Epoch 12/30\n",
      "67/67 [==============================] - 39s 580ms/step - loss: 1.5041 - accuracy: 0.3779\n",
      "Epoch 13/30\n",
      "67/67 [==============================] - 39s 579ms/step - loss: 1.4865 - accuracy: 0.3935\n",
      "Epoch 14/30\n",
      "67/67 [==============================] - 39s 583ms/step - loss: 1.4666 - accuracy: 0.3948\n",
      "Epoch 15/30\n",
      "67/67 [==============================] - 38s 570ms/step - loss: 1.4635 - accuracy: 0.3954\n",
      "Epoch 16/30\n",
      "67/67 [==============================] - 41s 611ms/step - loss: 1.4481 - accuracy: 0.4037\n",
      "Epoch 17/30\n",
      "67/67 [==============================] - 40s 595ms/step - loss: 1.4320 - accuracy: 0.4069\n",
      "Epoch 18/30\n",
      "67/67 [==============================] - 43s 647ms/step - loss: 1.4168 - accuracy: 0.4128\n",
      "Epoch 19/30\n",
      "67/67 [==============================] - 42s 627ms/step - loss: 1.4130 - accuracy: 0.4197\n",
      "Epoch 20/30\n",
      "67/67 [==============================] - 43s 640ms/step - loss: 1.3955 - accuracy: 0.4187\n",
      "Epoch 21/30\n",
      "67/67 [==============================] - 43s 644ms/step - loss: 1.3900 - accuracy: 0.4263\n",
      "Epoch 22/30\n",
      "67/67 [==============================] - 46s 679ms/step - loss: 1.3719 - accuracy: 0.4266\n",
      "Epoch 23/30\n",
      "67/67 [==============================] - 39s 577ms/step - loss: 1.3687 - accuracy: 0.4350\n",
      "Epoch 24/30\n",
      "67/67 [==============================] - 39s 586ms/step - loss: 1.3535 - accuracy: 0.4287\n",
      "Epoch 25/30\n",
      "67/67 [==============================] - 40s 596ms/step - loss: 1.3342 - accuracy: 0.4455\n",
      "Epoch 26/30\n",
      "67/67 [==============================] - 39s 579ms/step - loss: 1.3289 - accuracy: 0.4483\n",
      "Epoch 27/30\n",
      "67/67 [==============================] - 40s 598ms/step - loss: 1.3149 - accuracy: 0.4610\n",
      "Epoch 28/30\n",
      "67/67 [==============================] - 39s 583ms/step - loss: 1.3082 - accuracy: 0.4684\n",
      "Epoch 29/30\n",
      "67/67 [==============================] - 39s 586ms/step - loss: 1.2840 - accuracy: 0.4730\n",
      "Epoch 30/30\n",
      "67/67 [==============================] - 39s 584ms/step - loss: 1.2874 - accuracy: 0.4750\n",
      "\n",
      "*** Validation loss: 1.2101612722172457 - accuracy: 0.5139347910881042\n"
     ]
    }
   ],
   "source": [
    "import mlflow\n",
    "\n",
    "mlflow.set_experiment('awesome_advanced_approach')\n",
    "\n",
    "with mlflow.start_run(nested=True):\n",
    "    # Log model hiperparameters first\n",
    "    mlflow.log_param('description_features_layer_size', DESCRIPTION_FEATURES_LAYER_SIZE)\n",
    "    mlflow.log_param('hidden_layer_size', HIDDEN_LAYER_SIZE)\n",
    "    mlflow.log_param('embedded_columns', embedded_columns)\n",
    "    mlflow.log_param('one_hot_columns', one_hot_columns)\n",
    "    mlflow.log_param('numerical_columns', numeric_columns)\n",
    "    \n",
    "    # Train\n",
    "    epochs = 30\n",
    "    history = model.fit(train_dataset, epochs=epochs)\n",
    "    \n",
    "    # Evaluate\n",
    "    loss, accuracy = model.evaluate(dev_dataset, verbose=0)\n",
    "    print(\"\\n*** Validation loss: {} - accuracy: {}\".format(loss, accuracy))\n",
    "    mlflow.log_metric('epochs', epochs)\n",
    "    mlflow.log_metric('train_loss', history.history[\"loss\"][-1])\n",
    "    mlflow.log_metric('train_accuracy', history.history[\"accuracy\"][-1])\n",
    "    mlflow.log_metric('validation_loss', loss)\n",
    "    mlflow.log_metric('validation_accuracy', accuracy)"
   ]
  },
  {
   "cell_type": "markdown",
   "metadata": {
    "Collapsed": "false",
    "colab_type": "text",
    "id": "4hCoULwUQSkl"
   },
   "source": [
    "## Evaluando el modelo sobre los datos de evaluación para la competencia\n",
    "\n",
    "Una vez que tenemos definido nuestro modelo, el último paso es ponerlo a prueba en los datos de evaluación para generar un archivo para enviar a la competencia Kaggle.\n",
    "\n",
    "Comenzamos cargando el conjunto de datos."
   ]
  },
  {
   "cell_type": "code",
   "execution_count": 22,
   "metadata": {
    "Collapsed": "false",
    "colab": {
     "base_uri": "https://localhost:8080/",
     "height": 484
    },
    "colab_type": "code",
    "executionInfo": {
     "elapsed": 398344,
     "status": "ok",
     "timestamp": 1574907587906,
     "user": {
      "displayName": "Claudio Sárate",
      "photoUrl": "https://lh3.googleusercontent.com/a-/AAuE7mAyvJcBOeDmirReKch-IfaEhczbBFhZkXiSlm968g=s64",
      "userId": "01992612555747043556"
     },
     "user_tz": 180
    },
    "id": "6zp-oOlEQSkm",
    "outputId": "1c8f0c78-4604-4178-faf8-3aa87b09870b"
   },
   "outputs": [
    {
     "data": {
      "text/html": [
       "<div>\n",
       "<style scoped>\n",
       "    .dataframe tbody tr th:only-of-type {\n",
       "        vertical-align: middle;\n",
       "    }\n",
       "\n",
       "    .dataframe tbody tr th {\n",
       "        vertical-align: top;\n",
       "    }\n",
       "\n",
       "    .dataframe thead th {\n",
       "        text-align: right;\n",
       "    }\n",
       "</style>\n",
       "<table border=\"1\" class=\"dataframe\">\n",
       "  <thead>\n",
       "    <tr style=\"text-align: right;\">\n",
       "      <th></th>\n",
       "      <th>Type</th>\n",
       "      <th>Age</th>\n",
       "      <th>Breed1</th>\n",
       "      <th>Breed2</th>\n",
       "      <th>Gender</th>\n",
       "      <th>Color1</th>\n",
       "      <th>Color2</th>\n",
       "      <th>Color3</th>\n",
       "      <th>MaturitySize</th>\n",
       "      <th>FurLength</th>\n",
       "      <th>Vaccinated</th>\n",
       "      <th>Dewormed</th>\n",
       "      <th>Sterilized</th>\n",
       "      <th>Health</th>\n",
       "      <th>Quantity</th>\n",
       "      <th>Fee</th>\n",
       "      <th>State</th>\n",
       "      <th>Description</th>\n",
       "      <th>PID</th>\n",
       "    </tr>\n",
       "  </thead>\n",
       "  <tbody>\n",
       "    <tr>\n",
       "      <th>0</th>\n",
       "      <td>2</td>\n",
       "      <td>1</td>\n",
       "      <td>265</td>\n",
       "      <td>0</td>\n",
       "      <td>1</td>\n",
       "      <td>1</td>\n",
       "      <td>2</td>\n",
       "      <td>0</td>\n",
       "      <td>2</td>\n",
       "      <td>2</td>\n",
       "      <td>3</td>\n",
       "      <td>3</td>\n",
       "      <td>3</td>\n",
       "      <td>1</td>\n",
       "      <td>1</td>\n",
       "      <td>0</td>\n",
       "      <td>41401</td>\n",
       "      <td>I just found it alone yesterday near my apartm...</td>\n",
       "      <td>1</td>\n",
       "    </tr>\n",
       "    <tr>\n",
       "      <th>1</th>\n",
       "      <td>1</td>\n",
       "      <td>1</td>\n",
       "      <td>307</td>\n",
       "      <td>0</td>\n",
       "      <td>1</td>\n",
       "      <td>2</td>\n",
       "      <td>7</td>\n",
       "      <td>0</td>\n",
       "      <td>2</td>\n",
       "      <td>2</td>\n",
       "      <td>1</td>\n",
       "      <td>1</td>\n",
       "      <td>2</td>\n",
       "      <td>1</td>\n",
       "      <td>1</td>\n",
       "      <td>0</td>\n",
       "      <td>41326</td>\n",
       "      <td>Their pregnant mother was dumped by her irresp...</td>\n",
       "      <td>2</td>\n",
       "    </tr>\n",
       "    <tr>\n",
       "      <th>2</th>\n",
       "      <td>1</td>\n",
       "      <td>0</td>\n",
       "      <td>307</td>\n",
       "      <td>0</td>\n",
       "      <td>2</td>\n",
       "      <td>1</td>\n",
       "      <td>2</td>\n",
       "      <td>7</td>\n",
       "      <td>2</td>\n",
       "      <td>1</td>\n",
       "      <td>2</td>\n",
       "      <td>2</td>\n",
       "      <td>2</td>\n",
       "      <td>1</td>\n",
       "      <td>6</td>\n",
       "      <td>0</td>\n",
       "      <td>41326</td>\n",
       "      <td>Siu Pak just give birth on 13/6/10 to 6puppies...</td>\n",
       "      <td>7</td>\n",
       "    </tr>\n",
       "    <tr>\n",
       "      <th>3</th>\n",
       "      <td>2</td>\n",
       "      <td>12</td>\n",
       "      <td>265</td>\n",
       "      <td>0</td>\n",
       "      <td>2</td>\n",
       "      <td>1</td>\n",
       "      <td>7</td>\n",
       "      <td>0</td>\n",
       "      <td>2</td>\n",
       "      <td>2</td>\n",
       "      <td>3</td>\n",
       "      <td>3</td>\n",
       "      <td>3</td>\n",
       "      <td>1</td>\n",
       "      <td>1</td>\n",
       "      <td>0</td>\n",
       "      <td>41326</td>\n",
       "      <td>Very manja and gentle stray cat found, we woul...</td>\n",
       "      <td>9</td>\n",
       "    </tr>\n",
       "    <tr>\n",
       "      <th>4</th>\n",
       "      <td>2</td>\n",
       "      <td>3</td>\n",
       "      <td>264</td>\n",
       "      <td>0</td>\n",
       "      <td>2</td>\n",
       "      <td>1</td>\n",
       "      <td>2</td>\n",
       "      <td>5</td>\n",
       "      <td>3</td>\n",
       "      <td>3</td>\n",
       "      <td>1</td>\n",
       "      <td>1</td>\n",
       "      <td>2</td>\n",
       "      <td>1</td>\n",
       "      <td>1</td>\n",
       "      <td>50</td>\n",
       "      <td>41326</td>\n",
       "      <td>Kali is a super playful kitten who is on the g...</td>\n",
       "      <td>11</td>\n",
       "    </tr>\n",
       "  </tbody>\n",
       "</table>\n",
       "</div>"
      ],
      "text/plain": [
       "   Type  Age  Breed1  Breed2  Gender  Color1  Color2  Color3  MaturitySize  \\\n",
       "0     2    1     265       0       1       1       2       0             2   \n",
       "1     1    1     307       0       1       2       7       0             2   \n",
       "2     1    0     307       0       2       1       2       7             2   \n",
       "3     2   12     265       0       2       1       7       0             2   \n",
       "4     2    3     264       0       2       1       2       5             3   \n",
       "\n",
       "   FurLength  Vaccinated  Dewormed  Sterilized  Health  Quantity  Fee  State  \\\n",
       "0          2           3         3           3       1         1    0  41401   \n",
       "1          2           1         1           2       1         1    0  41326   \n",
       "2          1           2         2           2       1         6    0  41326   \n",
       "3          2           3         3           3       1         1    0  41326   \n",
       "4          3           1         1           2       1         1   50  41326   \n",
       "\n",
       "                                         Description  PID  \n",
       "0  I just found it alone yesterday near my apartm...    1  \n",
       "1  Their pregnant mother was dumped by her irresp...    2  \n",
       "2  Siu Pak just give birth on 13/6/10 to 6puppies...    7  \n",
       "3  Very manja and gentle stray cat found, we woul...    9  \n",
       "4  Kali is a super playful kitten who is on the g...   11  "
      ]
     },
     "execution_count": 22,
     "metadata": {},
     "output_type": "execute_result"
    }
   ],
   "source": [
    "test_dataset = pd.read_csv(os.path.join(BASE_DIR, \"test.csv\"))\n",
    "test_dataset.head()"
   ]
  },
  {
   "cell_type": "markdown",
   "metadata": {
    "Collapsed": "false",
    "colab_type": "text",
    "id": "ZKxz4HX6QSkp"
   },
   "source": [
    "## Creamos el conjunto de datos para darle al modelo entrenado"
   ]
  },
  {
   "cell_type": "code",
   "execution_count": 23,
   "metadata": {
    "Collapsed": "false",
    "colab": {
     "base_uri": "https://localhost:8080/",
     "height": 538
    },
    "colab_type": "code",
    "executionInfo": {
     "elapsed": 401751,
     "status": "ok",
     "timestamp": 1574907591320,
     "user": {
      "displayName": "Claudio Sárate",
      "photoUrl": "https://lh3.googleusercontent.com/a-/AAuE7mAyvJcBOeDmirReKch-IfaEhczbBFhZkXiSlm968g=s64",
      "userId": "01992612555747043556"
     },
     "user_tz": 180
    },
    "id": "pPkPPgz3QSkq",
    "outputId": "7a8c7fec-1e9a-45af-bc08-037f1ad020cf"
   },
   "outputs": [
    {
     "name": "stdout",
     "output_type": "stream",
     "text": [
      "{'Age': <tf.Tensor: id=12713, shape=(1,), dtype=float32, numpy=array([1.], dtype=float32)>,\n",
      " 'Breed1': <tf.Tensor: id=12714, shape=(1,), dtype=int32, numpy=array([265], dtype=int32)>,\n",
      " 'Breed2': <tf.Tensor: id=12715, shape=(1,), dtype=int32, numpy=array([0], dtype=int32)>,\n",
      " 'Color1': <tf.Tensor: id=12716, shape=(1,), dtype=int32, numpy=array([1], dtype=int32)>,\n",
      " 'Color2': <tf.Tensor: id=12717, shape=(1,), dtype=int32, numpy=array([2], dtype=int32)>,\n",
      " 'Color3': <tf.Tensor: id=12718, shape=(1,), dtype=int32, numpy=array([0], dtype=int32)>,\n",
      " 'Fee': <tf.Tensor: id=12719, shape=(1,), dtype=float32, numpy=array([0.], dtype=float32)>,\n",
      " 'description': <tf.Tensor: id=12720, shape=(13,), dtype=int32, numpy=\n",
      "array([ 116,  429, 1371,  991,  189,    1, 7873, 1043,   62,  600,  728,\n",
      "          5,    1], dtype=int32)>,\n",
      " 'direct_features': <tf.Tensor: id=12721, shape=(24,), dtype=float32, numpy=\n",
      "array([0., 1., 1., 0., 0., 0., 1., 0., 0., 0., 1., 0., 0., 0., 1., 0., 0.,\n",
      "       1., 0., 0., 1., 1., 0., 0.], dtype=float32)>}\n",
      "\n",
      "{'Age': <tf.Tensor: id=12722, shape=(1,), dtype=float32, numpy=array([1.], dtype=float32)>,\n",
      " 'Breed1': <tf.Tensor: id=12723, shape=(1,), dtype=int32, numpy=array([307], dtype=int32)>,\n",
      " 'Breed2': <tf.Tensor: id=12724, shape=(1,), dtype=int32, numpy=array([0], dtype=int32)>,\n",
      " 'Color1': <tf.Tensor: id=12725, shape=(1,), dtype=int32, numpy=array([2], dtype=int32)>,\n",
      " 'Color2': <tf.Tensor: id=12726, shape=(1,), dtype=int32, numpy=array([7], dtype=int32)>,\n",
      " 'Color3': <tf.Tensor: id=12727, shape=(1,), dtype=int32, numpy=array([0], dtype=int32)>,\n",
      " 'Fee': <tf.Tensor: id=12728, shape=(1,), dtype=float32, numpy=array([0.], dtype=float32)>,\n",
      " 'description': <tf.Tensor: id=12729, shape=(47,), dtype=int32, numpy=\n",
      "array([ 945,  154,  256, 2049,  105,  403,  991, 4678,  552,  545,    1,\n",
      "        142,  134,  403,    1,  118,  210,   73,    1,  533,  387,   35,\n",
      "        394,  272,   98,   62,    1,  464,  411,  151, 1401,   42,  253,\n",
      "          1,  825,   35, 4660,  247, 4156, 1402, 1403,    1,   43,   52,\n",
      "        599,   38,    1], dtype=int32)>,\n",
      " 'direct_features': <tf.Tensor: id=12730, shape=(24,), dtype=float32, numpy=\n",
      "array([1., 0., 1., 0., 0., 0., 1., 0., 0., 0., 1., 0., 1., 0., 0., 1., 0.,\n",
      "       0., 0., 1., 0., 1., 0., 0.], dtype=float32)>}\n",
      "\n"
     ]
    }
   ],
   "source": [
    "# First tokenize the description\n",
    "\n",
    "test_dataset[\"TokenizedDescription\"] = (\n",
    "    test_dataset[\"Description\"].fillna(value=\"\").apply(tokenize_description)\n",
    ")\n",
    "\n",
    "# Generate the basic TF dataset\n",
    "\n",
    "tf_test_dataset = tf.data.Dataset.from_generator(\n",
    "    lambda: dataset_generator(test_dataset, True),\n",
    "    output_types=instance_types,  # It should have the same instance types\n",
    ")\n",
    "\n",
    "for data in tf_test_dataset.take(\n",
    "    2\n",
    "):  # The dataset only returns a data instance now (no target)\n",
    "    pprint(data)\n",
    "    print()"
   ]
  },
  {
   "cell_type": "markdown",
   "metadata": {
    "Collapsed": "false",
    "colab_type": "text",
    "id": "JQ5uVG-JQSks"
   },
   "source": [
    "## Padding batches"
   ]
  },
  {
   "cell_type": "code",
   "execution_count": 24,
   "metadata": {
    "Collapsed": "false",
    "colab": {},
    "colab_type": "code",
    "id": "9fqTuEH5QSkt"
   },
   "outputs": [],
   "source": [
    "test_data = tf_test_dataset.padded_batch(\n",
    "    BATCH_SIZE, padded_shapes=padding_shapes[0], padding_values=padding_values[0]\n",
    ")"
   ]
  },
  {
   "cell_type": "markdown",
   "metadata": {
    "Collapsed": "false",
    "colab_type": "text",
    "id": "KEVmqQ6EQSkw"
   },
   "source": [
    "## Correr el modelo\n",
    "\n",
    "El último paso es correr el modelo sobre los datos de evaluación para conseguir las predicciones a enviar a la competencia."
   ]
  },
  {
   "cell_type": "code",
   "execution_count": 25,
   "metadata": {
    "Collapsed": "false",
    "colab": {},
    "colab_type": "code",
    "id": "nSeSqhOWQSkw"
   },
   "outputs": [],
   "source": [
    "test_dataset[\"AdoptionSpeed\"] = model.predict(test_data).argmax(axis=1)\n",
    "\n",
    "test_dataset.to_csv(\n",
    "    BASE_DIR + \"submission.csv\", index=False, columns=[\"PID\", \"AdoptionSpeed\"]\n",
    ")"
   ]
  }
 ],
 "metadata": {
  "accelerator": "GPU",
  "colab": {
   "collapsed_sections": [],
   "name": "practico_2_train_petfinder.ipynb",
   "provenance": []
  },
  "kernelspec": {
   "display_name": "Python 3",
   "language": "python",
   "name": "python3"
  },
  "language_info": {
   "codemirror_mode": {
    "name": "ipython",
    "version": 3
   },
   "file_extension": ".py",
   "mimetype": "text/x-python",
   "name": "python",
   "nbconvert_exporter": "python",
   "pygments_lexer": "ipython3",
   "version": "3.7.3"
  },
  "widgets": {
   "application/vnd.jupyter.widget-state+json": {
    "state": {},
    "version_major": 2,
    "version_minor": 0
   }
  }
 },
 "nbformat": 4,
 "nbformat_minor": 4
}
